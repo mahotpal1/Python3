{
 "cells": [
  {
   "cell_type": "code",
   "execution_count": 4,
   "id": "21f7493c",
   "metadata": {},
   "outputs": [
    {
     "name": "stdout",
     "output_type": "stream",
     "text": [
      "[2, 3, 4, 5, 8]\n"
     ]
    }
   ],
   "source": [
    "#Write a function that takes a list and a number as arguments. Add the number to the end of\n",
    "#the list, then remove the first element of the list. The function should then return the updated\n",
    "#list.\n",
    "\n",
    "def func1(l, x):\n",
    "    l.append(x)\n",
    "    l.pop(0)\n",
    "    return l\n",
    "\n",
    "print(func1([1,2,3,4,5],8))"
   ]
  },
  {
   "cell_type": "code",
   "execution_count": 10,
   "id": "a94875bd",
   "metadata": {},
   "outputs": [
    {
     "name": "stdout",
     "output_type": "stream",
     "text": [
      "65700\n"
     ]
    }
   ],
   "source": [
    "#Create the function that takes a list of dictionaries and returns the sum of people&#39;s budgets.\n",
    "\n",
    "def func2(l):\n",
    "    sum=0\n",
    "    for j in l:\n",
    "        for i in j.keys():\n",
    "            if i=='budget':\n",
    "                sum+=j.get(i)\n",
    "    return sum\n",
    "\n",
    "print(func2([{ \"name\": \"John\", \"age\": 21, \"budget\": 23000 },{ \"name\": \"Steve\", \"age\": 32, \"budget\": 40000 },{ \"name\": \"Martin\", \"age\": 16, \"budget\": 2700}]))"
   ]
  },
  {
   "cell_type": "code",
   "execution_count": 20,
   "id": "99e97a7f",
   "metadata": {},
   "outputs": [
    {
     "name": "stdout",
     "output_type": "stream",
     "text": [
      "ehllo\n"
     ]
    }
   ],
   "source": [
    "#Create a function that takes a string and returns a string with its letters in alphabetical order.\n",
    "\n",
    "def func3(x):\n",
    "    l=[]\n",
    "    for i in x:\n",
    "        l.append(i)\n",
    "    l.sort()\n",
    "    s=\"\"\n",
    "    for i in l:\n",
    "        s+=i\n",
    "    return s\n",
    "    \n",
    "print(func3(\"hello\"))"
   ]
  },
  {
   "cell_type": "code",
   "execution_count": 24,
   "id": "c3d90e76",
   "metadata": {},
   "outputs": [
    {
     "name": "stdout",
     "output_type": "stream",
     "text": [
      "105.0\n",
      "15399.26\n"
     ]
    }
   ],
   "source": [
    "#Create a function that accepts the principal p, the term in years t, the interest rate r, and the\n",
    "#number of compounding periods per year n. The function returns the value at the end of term\n",
    "#rounded to the nearest cent.\n",
    "\n",
    "def func4(p,t,r,n):\n",
    "    a = p*(1+(r/n))**(n*t)\n",
    "    return round(a,2)\n",
    "    \n",
    "print(func4(100,1,0.05,1))\n",
    "print(func4(3500,15,0.1,4))"
   ]
  },
  {
   "cell_type": "code",
   "execution_count": 25,
   "id": "af448c0e",
   "metadata": {},
   "outputs": [
    {
     "data": {
      "text/plain": [
       "[9, 2, 16]"
      ]
     },
     "execution_count": 25,
     "metadata": {},
     "output_type": "execute_result"
    }
   ],
   "source": [
    "#Write a function that takes a list of elements and returns only the integers.\n",
    "\n",
    "def func5(x):\n",
    "    l=[]\n",
    "    for i in x:\n",
    "        if type(i) == int:\n",
    "            l.append(i)\n",
    "    return l\n",
    "\n",
    "func5([9, 2, \"space\", \"car\", \"lion\", 16])"
   ]
  },
  {
   "cell_type": "code",
   "execution_count": null,
   "id": "bc61e2e8",
   "metadata": {},
   "outputs": [],
   "source": []
  }
 ],
 "metadata": {
  "kernelspec": {
   "display_name": "Python 3 (ipykernel)",
   "language": "python",
   "name": "python3"
  },
  "language_info": {
   "codemirror_mode": {
    "name": "ipython",
    "version": 3
   },
   "file_extension": ".py",
   "mimetype": "text/x-python",
   "name": "python",
   "nbconvert_exporter": "python",
   "pygments_lexer": "ipython3",
   "version": "3.9.12"
  }
 },
 "nbformat": 4,
 "nbformat_minor": 5
}
