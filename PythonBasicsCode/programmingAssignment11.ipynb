{
 "cells": [
  {
   "cell_type": "code",
   "execution_count": 3,
   "id": "f7eb92af",
   "metadata": {},
   "outputs": [
    {
     "name": "stdout",
     "output_type": "stream",
     "text": [
      "Provide length : \n",
      "3\n",
      "Strings which are greater than length 3  is:\n"
     ]
    },
    {
     "data": {
      "text/plain": [
       "['name', 'Vishal,', 'coder.']"
      ]
     },
     "execution_count": 3,
     "metadata": {},
     "output_type": "execute_result"
    }
   ],
   "source": [
    "#1. Write a Python program to find words which are greater than given length k?\n",
    "\n",
    "class words:\n",
    "    def __init__(self,s):\n",
    "        self.string=s\n",
    "        \n",
    "    def greater(self,k):\n",
    "        a=self.string.split(\" \")\n",
    "        l=[]\n",
    "        for i in a:\n",
    "            if len(i)>k:\n",
    "                l.append(i)\n",
    "        return l\n",
    "    \n",
    "st=words(\"My name is Vishal, And i'm not a coder.\")\n",
    "print(\"Provide length : \")\n",
    "k=int(input())\n",
    "print(\"Strings which are greater than length\", k, \" is:\")\n",
    "st.greater(k)"
   ]
  },
  {
   "cell_type": "code",
   "execution_count": 16,
   "id": "dbe9fe61",
   "metadata": {},
   "outputs": [
    {
     "name": "stdout",
     "output_type": "stream",
     "text": [
      "Before removal Hello World!\n",
      "After Removal Hllo World!\n"
     ]
    }
   ],
   "source": [
    "#2. Write a Python program for removing i-th character from a string?\n",
    "\n",
    "class Strings:\n",
    "    def __init__(self, s):\n",
    "        self.string=s\n",
    "        \n",
    "    def removeIthChar(self, k):\n",
    "        return self.string.replace(self.string[k],\"\")\n",
    "    \n",
    "s = Strings(\"Hello World!\")\n",
    "print(\"Before removal\", s.string)\n",
    "print(\"After Removal\", s.removeIthChar(1))"
   ]
  },
  {
   "cell_type": "code",
   "execution_count": 22,
   "id": "ddd7af52",
   "metadata": {},
   "outputs": [
    {
     "name": "stdout",
     "output_type": "stream",
     "text": [
      "Splitting the string and appending in list\n",
      "['hello', 'world']\n",
      "Rebuilding same string\n",
      "Joined string :  helloworld\n"
     ]
    }
   ],
   "source": [
    "#3. Write a Python program to split and join a string?\n",
    "class Strings3:\n",
    "    def __init__(self,s):\n",
    "        self.string=s\n",
    "    def splitJoinString(self):\n",
    "        print(\"Splitting the string and appending in list\")\n",
    "        l=self.string.split(\" \")\n",
    "        print(l)\n",
    "        print(\"Rebuilding same string\")\n",
    "        strings=\"\"\n",
    "        for i in l:\n",
    "            strings+=str(i)\n",
    "        print(\"Joined string : \", strings)\n",
    "a = Strings3(\"hello world\")\n",
    "a.splitJoinString()"
   ]
  },
  {
   "cell_type": "code",
   "execution_count": 28,
   "id": "9ca27897",
   "metadata": {},
   "outputs": [
    {
     "name": "stdout",
     "output_type": "stream",
     "text": [
      "IS 1001b1 binary? : False\n"
     ]
    }
   ],
   "source": [
    "#4. Write a Python to check if a given string is binary string or not?\n",
    "class strings4:\n",
    "    def __init__(self,s):\n",
    "        self.string=s\n",
    "    def checkString(self):\n",
    "        flag=True\n",
    "        for i in self.string:\n",
    "            if i==\"1\" or i==\"0\":\n",
    "                pass\n",
    "            else:\n",
    "                flag=False\n",
    "                break\n",
    "        return flag\n",
    "    \n",
    "c = strings4(\"1001b1\")\n",
    "print(\"IS\", c.string, \"binary? :\", c.checkString())"
   ]
  },
  {
   "cell_type": "code",
   "execution_count": 32,
   "id": "75442001",
   "metadata": {},
   "outputs": [
    {
     "name": "stdout",
     "output_type": "stream",
     "text": [
      "Vishal,\n",
      "are\n",
      "doing?\n",
      "Manasa,\n",
      "do\n",
      "do?\n"
     ]
    }
   ],
   "source": [
    "#5. Write a Python program to find uncommon words from two Strings?\n",
    "class strings5:\n",
    "    def __init__(self, s1,s2):\n",
    "        self.string1=s1\n",
    "        self.string2=s2\n",
    "        \n",
    "    def returnUncommon(self):\n",
    "        l1=self.string1.split(\" \")\n",
    "        for i in l1:\n",
    "            l=self.string2.split(\" \")\n",
    "            if i not in l:\n",
    "                print(i)\n",
    "        l1=self.string2.split(\" \")\n",
    "        for i in l1:\n",
    "            l=self.string1.split(\" \")\n",
    "            if i not in l:\n",
    "                print(i)\n",
    "        return \n",
    "    \n",
    "c = strings5(\"Hello Vishal, How are you doing?\", \"Hello Manasa, How do you do?\")\n",
    "c.returnUncommon()\n",
    "                \n",
    "    "
   ]
  },
  {
   "cell_type": "code",
   "execution_count": 29,
   "id": "fdf1f9c3",
   "metadata": {},
   "outputs": [
    {
     "name": "stdout",
     "output_type": "stream",
     "text": [
      "List of duplicate chars : ['l', 'e']\n"
     ]
    }
   ],
   "source": [
    "#6. Write a Python to find all duplicate characters in string?\n",
    "\n",
    "class string6:\n",
    "    def __init__(self,s):\n",
    "        self.string=s\n",
    "    \n",
    "    def find_duplicate(self):\n",
    "        l= [char for char in self.string]\n",
    "        l2=[]\n",
    "        l1=[]\n",
    "        for i in l:\n",
    "            if i not in l2:\n",
    "                l2.append(i)\n",
    "            elif i not in l1:\n",
    "                l1.append(i)\n",
    "        return l1\n",
    "    \n",
    "c = string6(\"HelloVishalEmper\")\n",
    "print(\"List of duplicate chars :\", c.find_duplicate())"
   ]
  },
  {
   "cell_type": "code",
   "execution_count": 50,
   "id": "7ce6550d",
   "metadata": {},
   "outputs": [
    {
     "data": {
      "text/plain": [
       "True"
      ]
     },
     "execution_count": 50,
     "metadata": {},
     "output_type": "execute_result"
    }
   ],
   "source": [
    "#7. Write a Python Program to check if a string contains any special character?\n",
    "class string7:\n",
    "    def __init__(self,s):\n",
    "        self.string=s\n",
    "    def spec(self):\n",
    "        for i in self.string:\n",
    "            if ord(i)>=32 and ord(i)<=47:\n",
    "                return True\n",
    "            elif ord(i)>=58 and ord(i)<=64:\n",
    "                return True\n",
    "            elif ord(i)>=91 and ord(i)<=96:\n",
    "                return True\n",
    "            elif ord(i)>=123 and ord(i)<=126:\n",
    "                return True\n",
    "        else:\n",
    "            return False\n",
    "    \n",
    "c=string7(\"HelloWorld!\")\n",
    "c.spec()"
   ]
  }
 ],
 "metadata": {
  "kernelspec": {
   "display_name": "Python 3 (ipykernel)",
   "language": "python",
   "name": "python3"
  },
  "language_info": {
   "codemirror_mode": {
    "name": "ipython",
    "version": 3
   },
   "file_extension": ".py",
   "mimetype": "text/x-python",
   "name": "python",
   "nbconvert_exporter": "python",
   "pygments_lexer": "ipython3",
   "version": "3.9.12"
  }
 },
 "nbformat": 4,
 "nbformat_minor": 5
}
