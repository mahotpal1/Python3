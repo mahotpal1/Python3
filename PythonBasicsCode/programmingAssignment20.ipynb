{
 "cells": [
  {
   "cell_type": "code",
   "execution_count": 4,
   "id": "e457c6d4",
   "metadata": {},
   "outputs": [
    {
     "name": "stdout",
     "output_type": "stream",
     "text": [
      "[1, 2, 3, 4]\n"
     ]
    }
   ],
   "source": [
    "#Create a function that takes a list of strings and integers, and filters out the list so that it\n",
    "#returns a list of integers only.\n",
    "\n",
    "def func1(x):\n",
    "    l=[]\n",
    "    for i in x:\n",
    "        if type(i)==int:\n",
    "            l.append(i)\n",
    "    return l\n",
    "\n",
    "print(func1([1, 2, 3,'a','b', 4]))"
   ]
  },
  {
   "cell_type": "code",
   "execution_count": 7,
   "id": "2d033f64",
   "metadata": {},
   "outputs": [
    {
     "name": "stdout",
     "output_type": "stream",
     "text": [
      "[1, 3, 5, 7, 9]\n"
     ]
    }
   ],
   "source": [
    "#Given a list of numbers, create a function which returns the list but with each element&#39;s\n",
    "#index in the list added to itself. This means you add 0 to the number at index 0, add 1 to the\n",
    "#number at index 1, etc...\n",
    "\n",
    "def func2(x):\n",
    "    j=0\n",
    "    l=[]\n",
    "    for i in x:\n",
    "        l.append(i+j)\n",
    "        j=j+1\n",
    "    return l\n",
    "\n",
    "print(func2([1, 2, 3, 4, 5]))"
   ]
  },
  {
   "cell_type": "code",
   "execution_count": 10,
   "id": "578b6119",
   "metadata": {},
   "outputs": [
    {
     "name": "stdout",
     "output_type": "stream",
     "text": [
      "6.29\n"
     ]
    }
   ],
   "source": [
    "#Create a function that takes the height and radius of a cone as arguments and returns the\n",
    "#volume of the cone rounded to the nearest hundredth. See the resources tab for the formula.\n",
    "import math\n",
    "\n",
    "def func3(rad,h):\n",
    "    area = (1/3)*(22/7)*rad*rad*h\n",
    "    return round(area, 2)\n",
    "\n",
    "print(\n",
    "    \n",
    "    func3(3,2))"
   ]
  },
  {
   "cell_type": "code",
   "execution_count": 13,
   "id": "a2c2ca79",
   "metadata": {},
   "outputs": [
    {
     "name": "stdout",
     "output_type": "stream",
     "text": [
      "23220\n"
     ]
    }
   ],
   "source": [
    "#This means that the first triangle has just one dot, the second one has three dots, the third one\n",
    "#has 6 dots and so on.\n",
    "\n",
    "def func4(x):\n",
    "    t=1\n",
    "    if x==1:\n",
    "        return t\n",
    "    else:\n",
    "        for i in range(1,x):\n",
    "            t+=i+1\n",
    "    return t\n",
    "\n",
    "print(func4(215))"
   ]
  },
  {
   "cell_type": "code",
   "execution_count": 15,
   "id": "6ba0decc",
   "metadata": {},
   "outputs": [
    {
     "name": "stdout",
     "output_type": "stream",
     "text": [
      "10\n",
      "7\n"
     ]
    }
   ],
   "source": [
    "#Create a function that takes a list of numbers between 1 and 10 (excluding one number) and\n",
    "#returns the missing number.\n",
    "\n",
    "def func5(x):\n",
    "    a=[1,2,3,4,5,6,7,8,9,10]\n",
    "    for i in a:\n",
    "        if i not in x:\n",
    "            return i\n",
    "        \n",
    "print(func5([7, 2, 3, 6, 5, 9, 1, 4, 8]))\n",
    "print(func5([2, 10, 3, 6, 5, 9, 1, 4, 8]))"
   ]
  },
  {
   "cell_type": "code",
   "execution_count": null,
   "id": "5f4bc38e",
   "metadata": {},
   "outputs": [],
   "source": []
  }
 ],
 "metadata": {
  "kernelspec": {
   "display_name": "Python 3 (ipykernel)",
   "language": "python",
   "name": "python3"
  },
  "language_info": {
   "codemirror_mode": {
    "name": "ipython",
    "version": 3
   },
   "file_extension": ".py",
   "mimetype": "text/x-python",
   "name": "python",
   "nbconvert_exporter": "python",
   "pygments_lexer": "ipython3",
   "version": "3.9.12"
  }
 },
 "nbformat": 4,
 "nbformat_minor": 5
}
