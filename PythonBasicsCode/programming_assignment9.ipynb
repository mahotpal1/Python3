{
 "cells": [
  {
   "cell_type": "code",
   "execution_count": 13,
   "id": "fc4592ea",
   "metadata": {},
   "outputs": [
    {
     "name": "stdout",
     "output_type": "stream",
     "text": [
      "Enter a number to check it is a dissarium number or not!\n",
      "324\n",
      "Not a disarium number!\n"
     ]
    }
   ],
   "source": [
    "#1. Write a Python program to check if the given number is a Disarium Number?\n",
    "#A number is called a disarium number if the sum of its digits powered with their position will be the number itself\n",
    "\n",
    "def disarium(x):\n",
    "    temp=x\n",
    "    l=[]\n",
    "    while(x>0):\n",
    "        l.append(x%10)\n",
    "        x=int(x/10)\n",
    "    l.reverse()\n",
    "    sumo=0\n",
    "    for i in range(len(l)):\n",
    "        sumo += l[i]**(i+1)\n",
    "    if temp==sumo:\n",
    "        return True\n",
    "    else:\n",
    "        return False\n",
    "    \n",
    "print(\"Enter a number to check it is a dissarium number or not!\")\n",
    "x = int(input())\n",
    "if disarium(x):\n",
    "    print(x, \"is a disarium number!\")\n",
    "else:\n",
    "    print(\"Not a disarium number!\")"
   ]
  },
  {
   "cell_type": "code",
   "execution_count": 15,
   "id": "f046e92b",
   "metadata": {},
   "outputs": [
    {
     "name": "stdout",
     "output_type": "stream",
     "text": [
      "Dissarium numbers between 1 to 100\n",
      "1 is a disarium number!\n",
      "2 is a disarium number!\n",
      "3 is a disarium number!\n",
      "4 is a disarium number!\n",
      "5 is a disarium number!\n",
      "6 is a disarium number!\n",
      "7 is a disarium number!\n",
      "8 is a disarium number!\n",
      "9 is a disarium number!\n",
      "89 is a disarium number!\n"
     ]
    }
   ],
   "source": [
    "#2. Write a Python program to print all disarium numbers between 1 to 100?\n",
    "def disarium(x):\n",
    "    temp=x\n",
    "    l=[]\n",
    "    while(x>0):\n",
    "        l.append(x%10)\n",
    "        x=int(x/10)\n",
    "    l.reverse()\n",
    "    sumo=0\n",
    "    for i in range(len(l)):\n",
    "        sumo += l[i]**(i+1)\n",
    "    if temp==sumo:\n",
    "        return True\n",
    "    else:\n",
    "        return False\n",
    "print(\"Dissarium numbers between 1 to 100\")\n",
    "for i in range(1,101):\n",
    "    if disarium(i):\n",
    "        print(i, \"is a disarium number!\")"
   ]
  },
  {
   "cell_type": "code",
   "execution_count": 12,
   "id": "27500952",
   "metadata": {},
   "outputs": [
    {
     "name": "stdout",
     "output_type": "stream",
     "text": [
      "Enter a number to check it is Happy or not\n",
      "20\n",
      "20 is not a happy number\n"
     ]
    }
   ],
   "source": [
    "#3. Write a Python program to check if the given number is Happy Number?\n",
    "#Starting with any positive integer, replace the number by the sum of the squares of its digits.\n",
    "def happyNum(x,l):\n",
    "    sumo=0\n",
    "    while x!=0:\n",
    "        sumo += (x%10)**2\n",
    "        x = int(x/10)\n",
    "    if sumo==1:\n",
    "        return True\n",
    "    elif sumo in l:\n",
    "        return False\n",
    "    else:\n",
    "        l.append(sumo)\n",
    "        return happyNum(sumo,l)\n",
    "    \n",
    "print(\"Enter a number to check it is Happy or not\")\n",
    "x = int(input())\n",
    "l=[]\n",
    "if happyNum(x,l):\n",
    "    print(x, \"is a happy number\")\n",
    "else:\n",
    "    print(x, \"is not a happy number\")\n",
    "        \n"
   ]
  },
  {
   "cell_type": "code",
   "execution_count": 13,
   "id": "df5d3cfa",
   "metadata": {},
   "outputs": [
    {
     "name": "stdout",
     "output_type": "stream",
     "text": [
      "Displaying total happy number between 1 to 100\n",
      "1 is a happy number\n",
      "7 is a happy number\n",
      "10 is a happy number\n",
      "19 is a happy number\n",
      "100 is a happy number\n"
     ]
    }
   ],
   "source": [
    "#4. Write a Python program to print all happy numbers between 1 and 100?\n",
    "def happyNum(x,l):\n",
    "    sumo=0\n",
    "    while x!=0:\n",
    "        sumo += (x%10)**2\n",
    "        x = int(x/10)\n",
    "    if sumo==1:\n",
    "        return True\n",
    "    elif sumo in l:\n",
    "        return False\n",
    "    else:\n",
    "        l.append(sumo)\n",
    "        return happyNum(sumo,l)\n",
    "\n",
    "print(\"Displaying total happy number between 1 to 100\")\n",
    "l=[]\n",
    "for i in range(1,101):\n",
    "    if happyNum(i,l):\n",
    "        print(i, \"is a happy number\")"
   ]
  },
  {
   "cell_type": "code",
   "execution_count": null,
   "id": "1e5cb008",
   "metadata": {},
   "outputs": [],
   "source": []
  },
  {
   "cell_type": "code",
   "execution_count": 17,
   "id": "8d1c196d",
   "metadata": {},
   "outputs": [
    {
     "name": "stdout",
     "output_type": "stream",
     "text": [
      "Enter a number to check it is harshad number or not!\n",
      "123\n",
      "123 is not a harshad number\n"
     ]
    }
   ],
   "source": [
    "#5. Write a Python program to determine whether the given number is a Harshad Number?\n",
    "#if it is divisible by the sum of its digit.\n",
    "def harshad(x):\n",
    "    sumo=0\n",
    "    temp=x\n",
    "    while x!=0:\n",
    "        sumo += x%10\n",
    "        x = int(x/10)\n",
    "    if temp%sumo==0:\n",
    "        return True\n",
    "    else:\n",
    "        return False\n",
    "\n",
    "print(\"Enter a number to check it is harshad number or not!\")\n",
    "x = int(input())\n",
    "if harshad(x):\n",
    "    print(x, \"is a harshad number\")\n",
    "else:\n",
    "    print(x, \"is not a harshad number\")"
   ]
  },
  {
   "cell_type": "code",
   "execution_count": 18,
   "id": "c7f9c6d7",
   "metadata": {},
   "outputs": [
    {
     "name": "stdout",
     "output_type": "stream",
     "text": [
      "Displaying the pronic numbers between 1 and 100\n",
      "6 is a pronic number\n",
      "12 is a pronic number\n",
      "20 is a pronic number\n",
      "30 is a pronic number\n",
      "42 is a pronic number\n",
      "56 is a pronic number\n",
      "72 is a pronic number\n",
      "90 is a pronic number\n"
     ]
    }
   ],
   "source": [
    "#6. Write a Python program to print all pronic numbers between 1 and 100?\n",
    "#A pronic number is a number that is the product of two consecutive integers\n",
    "def isPronic(x):\n",
    "    for i in range(int(x/2)):\n",
    "        if i*(i+1)==x:\n",
    "            return True\n",
    "            break\n",
    "    else:\n",
    "        return False\n",
    "    \n",
    "print(\"Displaying the pronic numbers between 1 and 100\")\n",
    "for i in range(1,101):\n",
    "    if isPronic(i):\n",
    "        print(i, \"is a pronic number\")\n",
    "        "
   ]
  }
 ],
 "metadata": {
  "kernelspec": {
   "display_name": "Python 3 (ipykernel)",
   "language": "python",
   "name": "python3"
  },
  "language_info": {
   "codemirror_mode": {
    "name": "ipython",
    "version": 3
   },
   "file_extension": ".py",
   "mimetype": "text/x-python",
   "name": "python",
   "nbconvert_exporter": "python",
   "pygments_lexer": "ipython3",
   "version": "3.9.12"
  }
 },
 "nbformat": 4,
 "nbformat_minor": 5
}
