{
 "cells": [
  {
   "cell_type": "code",
   "execution_count": 13,
   "id": "0289b096",
   "metadata": {},
   "outputs": [
    {
     "name": "stdout",
     "output_type": "stream",
     "text": [
      "Enter values inside a list, press enter to return.\n",
      "Sum of elements in list : 364.78Vishal\n"
     ]
    }
   ],
   "source": [
    "#1. Write a Python program to find sum of elements in list?\n",
    "def list_sum(l):\n",
    "    sumo=0\n",
    "    string=''\n",
    "    for i in l:\n",
    "        if type(i)==str:\n",
    "            string +=i\n",
    "        else:\n",
    "            sumo+=i\n",
    "    return str(sumo)+string\n",
    "\n",
    "print(\"Enter values inside a list, press enter to return.\")\n",
    "l=[123,45,'Vishal',98,98.78]\n",
    "print(\"Sum of elements in list :\", list_sum(l))"
   ]
  },
  {
   "cell_type": "code",
   "execution_count": 14,
   "id": "44016657",
   "metadata": {},
   "outputs": [
    {
     "name": "stdout",
     "output_type": "stream",
     "text": [
      "Returning the product of list members\n",
      "Product of list items : 36288\n"
     ]
    }
   ],
   "source": [
    "#2. Write a Python program to Multiply all numbers in the list?\n",
    "def mul_list(l):\n",
    "    sumo=1\n",
    "    for i in l:\n",
    "        sumo*=i\n",
    "    return sumo\n",
    "\n",
    "l=[1,3,8,7,9,6,4]\n",
    "print(\"Returning the product of list members\")\n",
    "print(\"Product of list items :\", mul_list(l))\n",
    "\n"
   ]
  },
  {
   "cell_type": "code",
   "execution_count": 24,
   "id": "ade53fc7",
   "metadata": {},
   "outputs": [
    {
     "name": "stdout",
     "output_type": "stream",
     "text": [
      "Smallest number in list : -98\n"
     ]
    }
   ],
   "source": [
    "#3. Write a Python program to find smallest number in a list?\n",
    "\n",
    "def smallest_num(l):\n",
    "    minm=l[0]\n",
    "    for i in l:\n",
    "        if type(i)==int:\n",
    "            if i<minm or type(minm)!=int:\n",
    "                minm=i\n",
    "    if type(minm) not in [float,int]:\n",
    "        return 0\n",
    "    else:\n",
    "        return minm\n",
    "l=[1,'Harsh',234,-9,-98,785,'Vishal']\n",
    "print(\"Smallest number in list :\", smallest_num(l))"
   ]
  },
  {
   "cell_type": "code",
   "execution_count": 29,
   "id": "2741f32e",
   "metadata": {},
   "outputs": [
    {
     "name": "stdout",
     "output_type": "stream",
     "text": [
      "largest number in list : 785\n"
     ]
    }
   ],
   "source": [
    "#4. Write a Python program to find largest number in a list?\n",
    "def maximum_num(l):\n",
    "    maxm=l[0]\n",
    "    for i in l:\n",
    "        if type(i)==int:\n",
    "            if i>maxm or type(maxm)!=int:\n",
    "                maxm=i\n",
    "    if type(maxm) not in [float,int]:\n",
    "        return 0\n",
    "    else:\n",
    "        return maxm\n",
    "l=[1,'Harsh',234,-9,-98,785,'Vishal']\n",
    "print(\"largest number in list :\", maximum_num(l))"
   ]
  },
  {
   "cell_type": "code",
   "execution_count": 28,
   "id": "087bc916",
   "metadata": {},
   "outputs": [
    {
     "name": "stdout",
     "output_type": "stream",
     "text": [
      "2nd largest number in list : 234\n"
     ]
    }
   ],
   "source": [
    "#5. Write a Python program to find second largest number in a list?\n",
    "def maximum_num(l):\n",
    "    maxm=l[0]\n",
    "    maxm2=l[0]\n",
    "    for i in l:\n",
    "        if type(i)==int:\n",
    "            if i>maxm or type(maxm)!=int:\n",
    "                maxm2=maxm\n",
    "                maxm=i\n",
    "    if type(maxm2) not in [float,int]:\n",
    "        return 0\n",
    "    else:\n",
    "        return maxm2\n",
    "l=[1,'Harsh',234,-9,-98,785,'Vishal']\n",
    "print(\"2nd largest number in list :\", maximum_num(l))"
   ]
  },
  {
   "cell_type": "code",
   "execution_count": 43,
   "id": "b1d5e682",
   "metadata": {},
   "outputs": [
    {
     "name": "stdout",
     "output_type": "stream",
     "text": [
      "Enter value of n : \n",
      "2\n",
      "2\n",
      "2 largest numbers in list : [785, 234]\n"
     ]
    }
   ],
   "source": [
    "#6. Write a Python program to find N largest elements from a list?\n",
    "\n",
    "def maximum_num(l,n):\n",
    "    m=[]\n",
    "    maxm=l[0]\n",
    "    for i in l:\n",
    "        if type(i)==int:\n",
    "            if i>maxm or type(maxm)!=int:\n",
    "                m.append(i)\n",
    "                maxm=i\n",
    "                \n",
    "    m=list(reversed(m))\n",
    "    print(len(m))\n",
    "    if type(maxm) not in [float,int]:\n",
    "        print(\"Required maxm elements Out of bound\")\n",
    "        return 0\n",
    "    else:\n",
    "        if n<=len(m):\n",
    "            return m[0:n]\n",
    "            \n",
    "l=[1,'Harsh',234,-9,-98,785,'Vishal']\n",
    "print(\"Enter value of n : \")\n",
    "x=int(input())\n",
    "print(x, \"largest numbers in list :\", maximum_num(l,x))                "
   ]
  },
  {
   "cell_type": "code",
   "execution_count": 47,
   "id": "74df72c5",
   "metadata": {},
   "outputs": [
    {
     "name": "stdout",
     "output_type": "stream",
     "text": [
      "Even Numbers in list : [2, 678, 98, 6, 0]\n"
     ]
    }
   ],
   "source": [
    "#7. Write a Python program to print even numbers in a list?\n",
    "def even(l):\n",
    "    e=[]\n",
    "    for i in l:\n",
    "        if type(i) in [int,float]:\n",
    "            if i%2==0:\n",
    "                e.append(i)\n",
    "    return e\n",
    "\n",
    "l=['Vishal', 23,2,45,678,98,6,4567,0]\n",
    "print(\"Even Numbers in list :\", even(l))"
   ]
  },
  {
   "cell_type": "code",
   "execution_count": 48,
   "id": "ea6e6414",
   "metadata": {},
   "outputs": [
    {
     "name": "stdout",
     "output_type": "stream",
     "text": [
      "Even Numbers in list : [23, 45, 4567]\n"
     ]
    }
   ],
   "source": [
    "#8. Write a Python program to print odd numbers in a List?\n",
    "def even(l):\n",
    "    e=[]\n",
    "    for i in l:\n",
    "        if type(i) in [int,float]:\n",
    "            if i%2!=0:\n",
    "                e.append(i)\n",
    "    return e\n",
    "\n",
    "l=['Vishal', 23,2,45,678,98,6,4567,0]\n",
    "print(\"Even Numbers in list :\", even(l))"
   ]
  },
  {
   "cell_type": "code",
   "execution_count": 53,
   "id": "cbf0b060",
   "metadata": {},
   "outputs": [
    {
     "name": "stdout",
     "output_type": "stream",
     "text": [
      "Before removal list elements : [123, 'vishal', [], [1, 2, 3], ['Vishal', 'MightyRaju'], ['a']]\n",
      "After removal list elements : [123, 'vishal', [1, 2, 3], ['Vishal', 'MightyRaju'], ['a']]\n"
     ]
    }
   ],
   "source": [
    "#9. Write a Python program to Remove empty List from List?\n",
    "\n",
    "def remove_emptyList(l):\n",
    "    for i in l:\n",
    "        if type(i)==list and len(i)==0:\n",
    "            l.remove(i)\n",
    "    return l\n",
    "\n",
    "l=[123,'vishal',[],[1,2,3],['Vishal','MightyRaju'],['a']]\n",
    "print(\"Before removal list elements :\", l)\n",
    "print(\"After removal list elements :\", remove_emptyList(l))\n",
    "            "
   ]
  },
  {
   "cell_type": "code",
   "execution_count": 54,
   "id": "16fe3286",
   "metadata": {},
   "outputs": [
    {
     "name": "stdout",
     "output_type": "stream",
     "text": [
      "Copied :  [1, 2, 3, 4, 5, 6, 7, 8, 9, 10]\n"
     ]
    }
   ],
   "source": [
    "#10. Write a Python program to Cloning or Copying a list?\n",
    "def copy_list(lsource,ldest):\n",
    "    for i in lsource:\n",
    "        ldest.append(i)\n",
    "    return ldest\n",
    "\n",
    "l=[1,2,3,4,5,6,7,8,9,10]\n",
    "ld=[]\n",
    "print(\"Copied : \", copy_list(l,ld))\n"
   ]
  },
  {
   "cell_type": "code",
   "execution_count": 58,
   "id": "5ce0cf86",
   "metadata": {},
   "outputs": [
    {
     "name": "stdout",
     "output_type": "stream",
     "text": [
      "Total count of each elements:\n",
      "<class 'str'> 123 : 1\n",
      "<class 'int'> 123 : 1\n",
      "<class 'int'> 4 : 1\n"
     ]
    }
   ],
   "source": [
    "#11. Write a Python program to Count occurrences of an element in a list?\n",
    "def count_All(l):\n",
    "    for i in l:\n",
    "        if l.count(i)>1:\n",
    "            continue\n",
    "        else:\n",
    "            print(type(i),i,\":\",l.count(i))\n",
    "        \n",
    "l=[\"vishal\", \"123\", \"vishal\", 123, 4]\n",
    "print(\"Total count of each elements:\")\n",
    "count_All(l)"
   ]
  }
 ],
 "metadata": {
  "kernelspec": {
   "display_name": "Python 3 (ipykernel)",
   "language": "python",
   "name": "python3"
  },
  "language_info": {
   "codemirror_mode": {
    "name": "ipython",
    "version": 3
   },
   "file_extension": ".py",
   "mimetype": "text/x-python",
   "name": "python",
   "nbconvert_exporter": "python",
   "pygments_lexer": "ipython3",
   "version": "3.9.12"
  }
 },
 "nbformat": 4,
 "nbformat_minor": 5
}
