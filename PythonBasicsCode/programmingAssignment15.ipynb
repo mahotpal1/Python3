{
 "cells": [
  {
   "cell_type": "code",
   "execution_count": 5,
   "id": "58b2cc6e",
   "metadata": {},
   "outputs": [
    {
     "name": "stdout",
     "output_type": "stream",
     "text": [
      "100\n",
      "0\n",
      "35\n",
      "70\n"
     ]
    }
   ],
   "source": [
    "#Please write a program using generator to print the numbers which can be divisible\n",
    "#by 5 and 7 between 0 and n in comma separated form while n is input by console.\n",
    "\n",
    "class Generate:\n",
    "    def __init__(self):\n",
    "        pass\n",
    "    def checkDivi(self,n):\n",
    "        for i in range(n):\n",
    "            if i%7==0 and i%5==0:\n",
    "                yield i\n",
    "            \n",
    "n = int(input())\n",
    "for i in Generate().checkDivi(n):\n",
    "    print(i)"
   ]
  },
  {
   "cell_type": "code",
   "execution_count": 11,
   "id": "d9082051",
   "metadata": {},
   "outputs": [
    {
     "name": "stdout",
     "output_type": "stream",
     "text": [
      "10\n",
      "[0, 2, 4, 6, 8, 10]\n"
     ]
    }
   ],
   "source": [
    "#Please write a program using generator to print the even numbers between 0 and n in comma\n",
    "#separated form while n is input by console.\n",
    "\n",
    "class Even:\n",
    "    def __init__(self):\n",
    "        pass\n",
    "    def gen(self,n):\n",
    "        for i in range(0,n+1):\n",
    "            if i%2==0:\n",
    "                yield i\n",
    "\n",
    "n = int(input())\n",
    "l=[]\n",
    "for i in Even().gen(n):\n",
    "    l.append(i)\n",
    "print(l)"
   ]
  },
  {
   "cell_type": "code",
   "execution_count": 19,
   "id": "657b4bc6",
   "metadata": {},
   "outputs": [
    {
     "name": "stdout",
     "output_type": "stream",
     "text": [
      "7\n",
      "[0, 1, 1, 2, 3, 5, 8, 13]\n"
     ]
    }
   ],
   "source": [
    "#Please write a program using list comprehension to print the Fibonacci Sequence in comma\n",
    "#separated form with a given n input by console.\n",
    "class Repeat:\n",
    "    def __init__(self):\n",
    "        pass\n",
    "    def fib(self,n):\n",
    "        l=[]\n",
    "        a1=0\n",
    "        a2=1\n",
    "        for i in range(0,n+1):\n",
    "            if i==0:\n",
    "                l.append(0)\n",
    "            elif i==1:\n",
    "                l.append(1)\n",
    "            else:\n",
    "                l.append(l[i-1]+l[i-2])\n",
    "        return l\n",
    "                \n",
    "\n",
    "n = int(input())\n",
    "print(Repeat().fib(n))"
   ]
  },
  {
   "cell_type": "code",
   "execution_count": 22,
   "id": "b6ba898a",
   "metadata": {},
   "outputs": [
    {
     "data": {
      "text/plain": [
       "'john'"
      ]
     },
     "execution_count": 22,
     "metadata": {},
     "output_type": "execute_result"
    }
   ],
   "source": [
    "#Assuming that we have some email addresses in the &quot;username@companyname.com&quot; format,\n",
    "#please write program to print the user name of a given email address. Both user names and\n",
    "#company names are composed of letters only.\n",
    "\n",
    "class Email:\n",
    "    def __init__(self,s):\n",
    "        self.s=s\n",
    "    def name(self):\n",
    "        l=self.s.split(\"@\")\n",
    "        return l[0]\n",
    "    \n",
    "c = Email(\"john@google.com\")\n",
    "c.name()"
   ]
  },
  {
   "cell_type": "code",
   "execution_count": 25,
   "id": "64839ea7",
   "metadata": {},
   "outputs": [],
   "source": [
    "#Define a class named Shape and its subclass Square. The Square class has an init function\n",
    "#which takes a length as argument. Both classes have a area function which can print the area\n",
    "#of the shape where Shape&#39;s area is 0 by default.\n",
    "\n",
    "class Shape:\n",
    "    def shape(area=0):\n",
    "        print(area)\n",
    "class Square(Shape):\n",
    "    def __init__(self,l):\n",
    "        self.l=l\n",
    "    def shape(self):\n",
    "        print(self.l*self.l)\n"
   ]
  },
  {
   "cell_type": "code",
   "execution_count": null,
   "id": "4f799f9d",
   "metadata": {},
   "outputs": [],
   "source": []
  }
 ],
 "metadata": {
  "kernelspec": {
   "display_name": "Python 3 (ipykernel)",
   "language": "python",
   "name": "python3"
  },
  "language_info": {
   "codemirror_mode": {
    "name": "ipython",
    "version": 3
   },
   "file_extension": ".py",
   "mimetype": "text/x-python",
   "name": "python",
   "nbconvert_exporter": "python",
   "pygments_lexer": "ipython3",
   "version": "3.9.12"
  }
 },
 "nbformat": 4,
 "nbformat_minor": 5
}
