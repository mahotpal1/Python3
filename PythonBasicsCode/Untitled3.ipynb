{
 "cells": [
  {
   "cell_type": "code",
   "execution_count": 1,
   "id": "d6e281ed",
   "metadata": {},
   "outputs": [
    {
     "name": "stdout",
     "output_type": "stream",
     "text": [
      "\"Hello Python\"\n"
     ]
    }
   ],
   "source": [
    "#1. Write a Python program to print \"Hello Python\"\n",
    "print('\"Hello Python\"')\n"
   ]
  },
  {
   "cell_type": "code",
   "execution_count": 3,
   "id": "c62e6128",
   "metadata": {},
   "outputs": [
    {
     "name": "stdout",
     "output_type": "stream",
     "text": [
      "Addition of values :  13.0\n",
      "Value of division :  3.3333333333333335\n"
     ]
    }
   ],
   "source": [
    "# 2. Write a Python program to do arithmetical operations addition and division.?\n",
    "\n",
    "a = 10.0\n",
    "b = 3\n",
    "c = a+b\n",
    "print(\"Addition of values : \", c)\n",
    "c = a/b\n",
    "print(\"Value of division : \", c)"
   ]
  },
  {
   "cell_type": "code",
   "execution_count": 4,
   "id": "78f6fedf",
   "metadata": {},
   "outputs": [
    {
     "name": "stdout",
     "output_type": "stream",
     "text": [
      "Area of triangle :  25.0\n"
     ]
    }
   ],
   "source": [
    "#3. Write a Python program to find the area of a triangle?\n",
    "base = 10.0\n",
    "height = 5.0\n",
    "area = 0.5*base*height\n",
    "print(\"Area of triangle : \", area)"
   ]
  },
  {
   "cell_type": "code",
   "execution_count": 7,
   "id": "a2f7f509",
   "metadata": {},
   "outputs": [
    {
     "name": "stdout",
     "output_type": "stream",
     "text": [
      "Old values a= 10  b= 6\n",
      "New values a= 6  b= 10\n"
     ]
    }
   ],
   "source": [
    "#4. Write a Python program to swap two variables?\n",
    "a = 10\n",
    "b = 6\n",
    "print(\"Old values a=\",a,\" b=\",b)\n",
    "temp = a\n",
    "a = b\n",
    "b = temp\n",
    "print(\"New values a=\",a,\" b=\",b)"
   ]
  },
  {
   "cell_type": "code",
   "execution_count": 11,
   "id": "468f48ca",
   "metadata": {},
   "outputs": [
    {
     "name": "stdout",
     "output_type": "stream",
     "text": [
      "12\n"
     ]
    }
   ],
   "source": [
    "#5. Write a Python program to generate a random number?\n",
    "import random\n",
    "x = random.randint(10,20)\n",
    "print(x)"
   ]
  }
 ],
 "metadata": {
  "kernelspec": {
   "display_name": "Python 3 (ipykernel)",
   "language": "python",
   "name": "python3"
  },
  "language_info": {
   "codemirror_mode": {
    "name": "ipython",
    "version": 3
   },
   "file_extension": ".py",
   "mimetype": "text/x-python",
   "name": "python",
   "nbconvert_exporter": "python",
   "pygments_lexer": "ipython3",
   "version": "3.9.12"
  }
 },
 "nbformat": 4,
 "nbformat_minor": 5
}
