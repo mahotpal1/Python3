{
 "cells": [
  {
   "cell_type": "code",
   "execution_count": 18,
   "id": "edd5dc38",
   "metadata": {},
   "outputs": [
    {
     "name": "stdout",
     "output_type": "stream",
     "text": [
      "True\n",
      "False\n"
     ]
    }
   ],
   "source": [
    "def func1(x):\n",
    "    l=list(str(x))  \n",
    "    l.reverse()\n",
    "    s=\"\"\n",
    "    for i in l:\n",
    "        s+=i\n",
    "    if int(s)==x:\n",
    "        return True\n",
    "    else:\n",
    "        return False\n",
    "\n",
    "print(func1(12321))\n",
    "print(func1(12345321))\n",
    "    "
   ]
  },
  {
   "cell_type": "code",
   "execution_count": 26,
   "id": "e7ab97e8",
   "metadata": {},
   "outputs": [
    {
     "name": "stdout",
     "output_type": "stream",
     "text": [
      "24\n"
     ]
    }
   ],
   "source": [
    "#Given a string of numbers separated by a comma and space, return the product of the\n",
    "#numbers.\n",
    "\n",
    "def func2(x):\n",
    "    l = x.split(\", \")\n",
    "    t=1\n",
    "    for i in l:\n",
    "        t*=int(i)\n",
    "    return t\n",
    "\n",
    "print(func2(\"1, 2, 3, 4\"))"
   ]
  },
  {
   "cell_type": "code",
   "execution_count": 27,
   "id": "25eeb40c",
   "metadata": {},
   "outputs": [
    {
     "name": "stdout",
     "output_type": "stream",
     "text": [
      "811181\n"
     ]
    }
   ],
   "source": [
    "#Create a function that squares every digit of a number.\n",
    "def func3(n):\n",
    "    n=str(n)\n",
    "    new=\"\"\n",
    "    for i in n:\n",
    "        new+=str(int(i)*int(i))\n",
    "    return int(new)\n",
    "\n",
    "print(func3(9119))"
   ]
  },
  {
   "cell_type": "code",
   "execution_count": 30,
   "id": "81345806",
   "metadata": {},
   "outputs": [
    {
     "name": "stdout",
     "output_type": "stream",
     "text": [
      "[5, 7, 8, 9, 10, 15]\n"
     ]
    }
   ],
   "source": [
    "#Create a function that sorts a list and removes all duplicate items from it.\n",
    "def func4(l):\n",
    "    l=set(l)\n",
    "    l=list(l)\n",
    "    l.sort()\n",
    "    return l\n",
    "\n",
    "print(func4([5, 7, 8, 9, 10, 15]))"
   ]
  },
  {
   "cell_type": "code",
   "execution_count": 32,
   "id": "45e6743f",
   "metadata": {},
   "outputs": [
    {
     "data": {
      "text/plain": [
       "3.0"
      ]
     },
     "execution_count": 32,
     "metadata": {},
     "output_type": "execute_result"
    }
   ],
   "source": [
    "#Create a function that returns the mean of all digits.\n",
    "\n",
    "def func5(n):\n",
    "    n=str(n)\n",
    "    sum=0\n",
    "    for i in list(n):\n",
    "        sum+=int(i)\n",
    "    mean=sum/len(n)\n",
    "    round(mean, 2)\n",
    "    return mean\n",
    "\n",
    "func5(12345)"
   ]
  },
  {
   "cell_type": "code",
   "execution_count": null,
   "id": "8b4d5261",
   "metadata": {},
   "outputs": [],
   "source": []
  }
 ],
 "metadata": {
  "kernelspec": {
   "display_name": "Python 3 (ipykernel)",
   "language": "python",
   "name": "python3"
  },
  "language_info": {
   "codemirror_mode": {
    "name": "ipython",
    "version": 3
   },
   "file_extension": ".py",
   "mimetype": "text/x-python",
   "name": "python",
   "nbconvert_exporter": "python",
   "pygments_lexer": "ipython3",
   "version": "3.9.12"
  }
 },
 "nbformat": 4,
 "nbformat_minor": 5
}
