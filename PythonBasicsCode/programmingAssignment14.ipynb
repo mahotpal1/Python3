{
 "cells": [
  {
   "cell_type": "code",
   "execution_count": 14,
   "id": "18f9c6e2",
   "metadata": {},
   "outputs": [
    {
     "name": "stdout",
     "output_type": "stream",
     "text": [
      "7\n",
      "14\n",
      "21\n",
      "28\n",
      "35\n",
      "42\n",
      "49\n",
      "56\n",
      "63\n",
      "70\n",
      "77\n",
      "84\n",
      "91\n",
      "98\n",
      "105\n"
     ]
    }
   ],
   "source": [
    "#Question 1:\n",
    "#Define a class with a generator which can iterate the numbers, which are divisible by\n",
    "#7, between a given range 0 and n.\n",
    "\n",
    "class A:\n",
    "    def __init__(self,x1,x2):\n",
    "        self.x1=x1\n",
    "        self.x2=x2\n",
    "        \n",
    "    def gen(self):\n",
    "        for i in range(self.x1,self.x2+1):\n",
    "            if i%7==0:\n",
    "                yield i\n",
    "      \n",
    "for i in A(3,108).gen():\n",
    "    print(i)"
   ]
  },
  {
   "cell_type": "code",
   "execution_count": 4,
   "id": "2dc42652",
   "metadata": {},
   "outputs": [
    {
     "name": "stdout",
     "output_type": "stream",
     "text": [
      "2 : 2\n",
      "3. : 1\n",
      "3? : 1\n",
      "New : 1\n",
      "Python : 5\n",
      "Read : 1\n",
      "and : 1\n",
      "between : 1\n",
      "choosing : 1\n",
      "or : 2\n",
      "to : 1\n"
     ]
    }
   ],
   "source": [
    "#Write a program to compute the frequency of the words from the input. The output\n",
    "#should output after sorting the key alphanumerically.\n",
    "\n",
    "class B:\n",
    "    def __init__(self, s):\n",
    "        self.s =s\n",
    "        \n",
    "    def calc(self):\n",
    "        l = self.s.split(\" \")\n",
    "        n=[]\n",
    "        for i in l:\n",
    "            if i not in n:\n",
    "                n.append(i)\n",
    "        n.sort()\n",
    "        for i in n:\n",
    "            print(i,\":\",l.count(i))\n",
    "            \n",
    "a = B(\"New to Python or choosing between Python 2 and Python 3? Read Python 2 or Python 3.\")\n",
    "a.calc()"
   ]
  },
  {
   "cell_type": "code",
   "execution_count": 3,
   "id": "9b8eb8cb",
   "metadata": {},
   "outputs": [
    {
     "name": "stdout",
     "output_type": "stream",
     "text": [
      "Male\n",
      "Female\n"
     ]
    }
   ],
   "source": [
    "#Define a class Person and its two child classes: Male and Female. All classes have a\n",
    "#method getGender which can print Male for Male class and Female for Female\n",
    "\n",
    "class Person:\n",
    "    def __init__(self):\n",
    "        pass\n",
    "    def __str__(self):\n",
    "        return \"From Parent Class\"\n",
    "    \n",
    "class Male(Person):\n",
    "    def __init__(self):\n",
    "        pass\n",
    "    def __str__(self):\n",
    "        return \"Male\"\n",
    "    \n",
    "class Female(Person):\n",
    "    def __init__(self):\n",
    "        pass\n",
    "    def __str__(self):\n",
    "        return \"Female\"\n",
    "    \n",
    "print(Male())\n",
    "print(Female())"
   ]
  },
  {
   "cell_type": "code",
   "execution_count": 5,
   "id": "5cbb750d",
   "metadata": {},
   "outputs": [
    {
     "name": "stdout",
     "output_type": "stream",
     "text": [
      "sentence class\n",
      "I PLAY HOCKEY\n",
      "I PLAY FOOTBALL\n",
      "I LOVE HOCKEY\n",
      "I LOVE FOOTBALL\n",
      "YOU PLAY HOCKEY\n",
      "YOU PLAY FOOTBALL\n",
      "YOU LOVE HOCKEY\n",
      "YOU LOVE FOOTBALL\n"
     ]
    }
   ],
   "source": [
    "#Please write a program to generate all sentences where subject is in [&quot;I&quot;, &quot;You&quot;] and\n",
    "#verb is in [&quot;Play&quot;, &quot;Love&quot;] and the object is in [&quot;Hockey&quot;,&quot;Football&quot;].\n",
    "\n",
    "class sentence:\n",
    "    def __init__(self,x,y,z):\n",
    "        self.x = x\n",
    "        self.y = y\n",
    "        self.z = z\n",
    "    def generate(self):\n",
    "        for i in self.x:\n",
    "            for j in self.y:\n",
    "                for k in self.z:\n",
    "                     print(i+\" \"+j+\" \"+k)\n",
    "    def __str__(self):\n",
    "        return \"sentence class\"\n",
    "    \n",
    "c = sentence([\"I\",\"YOU\"],[\"PLAY\",\"LOVE\"],[\"HOCKEY\",\"FOOTBALL\"])\n",
    "print(c)\n",
    "c.generate()"
   ]
  },
  {
   "cell_type": "code",
   "execution_count": 39,
   "id": "28f88e4b",
   "metadata": {},
   "outputs": [
    {
     "name": "stdout",
     "output_type": "stream",
     "text": [
      "Compressed\n",
      "Decompressed\n"
     ]
    }
   ],
   "source": [
    "#Please write a program to compress and decompress the string &quot;hello world!hello\n",
    "#world!hello world!hello world!&quot;.\n",
    "import zlib\n",
    "import sys\n",
    "\n",
    "class St:\n",
    "    def __init__(self,s):\n",
    "        self.x = s\n",
    "    def compres(self):\n",
    "        self.x=zlib.compress(self.x.encode())\n",
    "        print(\"Compressed\") \n",
    "    def decompres(self):\n",
    "        self.x = zlib.decompress(self.x)\n",
    "        print(\"Decompressed\") \n",
    "\n",
    "c = St(\"hello world!helloworld!hello world!hello world.\")\n",
    "c.compres()\n",
    "c.decompres()\n"
   ]
  },
  {
   "cell_type": "code",
   "execution_count": 6,
   "id": "f18a30f8",
   "metadata": {},
   "outputs": [
    {
     "name": "stdout",
     "output_type": "stream",
     "text": [
      "High\n",
      "3\n"
     ]
    }
   ],
   "source": [
    "#Please write a binary search function which searches an item in a sorted list. The\n",
    "#function should return the index of element to be searched in the list.\n",
    "\n",
    "class BinarySearch:\n",
    "    def __init__(self,l):\n",
    "        self.l = l\n",
    "    def search_nodes(self,key):\n",
    "        self.l.sort()\n",
    "        low=0\n",
    "        high=len(self.l)-1\n",
    "        while low<=high:\n",
    "            m=int((low+high-1)/2)\n",
    "            if self.l[m] == key:\n",
    "                return m\n",
    "            elif self.l[m]>key:\n",
    "                low=m-1\n",
    "            else:\n",
    "                high=m+1\n",
    "    def __str__():\n",
    "        return \"BinarySearch\"\n",
    "a = BinarySearch([1,4,6,7,8,23,45,67,87])\n",
    "print(a.search_nodes(7))\n",
    "\n",
    "                \n",
    "        "
   ]
  },
  {
   "cell_type": "code",
   "execution_count": null,
   "id": "10e40ab6",
   "metadata": {},
   "outputs": [],
   "source": []
  }
 ],
 "metadata": {
  "kernelspec": {
   "display_name": "Python 3 (ipykernel)",
   "language": "python",
   "name": "python3"
  },
  "language_info": {
   "codemirror_mode": {
    "name": "ipython",
    "version": 3
   },
   "file_extension": ".py",
   "mimetype": "text/x-python",
   "name": "python",
   "nbconvert_exporter": "python",
   "pygments_lexer": "ipython3",
   "version": "3.9.12"
  }
 },
 "nbformat": 4,
 "nbformat_minor": 5
}
