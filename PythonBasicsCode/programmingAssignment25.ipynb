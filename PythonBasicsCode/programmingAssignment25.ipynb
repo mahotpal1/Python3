{
 "cells": [
  {
   "cell_type": "code",
   "execution_count": 8,
   "id": "1d7ef775",
   "metadata": {},
   "outputs": [
    {
     "name": "stdout",
     "output_type": "stream",
     "text": [
      "2\n",
      "3\n",
      "0\n"
     ]
    }
   ],
   "source": [
    "#Create a function that takes three integer arguments (a, b, c) and returns the amount of\n",
    "#integers which are of equal value.\n",
    "\n",
    "def func1(a,b,c):\n",
    "    l=[]\n",
    "    l.append(a)\n",
    "    l.append(b)\n",
    "    l.append(c)\n",
    "    for i in l:\n",
    "        if l.count(i)>1:\n",
    "            return l.count(i)\n",
    "    return 0    \n",
    "    \n",
    "print(func1(3,4,3))\n",
    "print(func1(1,1,1))\n",
    "print(func1(3,4,1))"
   ]
  },
  {
   "cell_type": "code",
   "execution_count": 11,
   "id": "f0a25e78",
   "metadata": {},
   "outputs": [
    {
     "name": "stdout",
     "output_type": "stream",
     "text": [
      "[('D', 1), ('B', 2), ('C', 3)]\n"
     ]
    }
   ],
   "source": [
    "#Write a function that converts a dictionary into a list of keys-values tuples.\n",
    "\n",
    "def func2(d):\n",
    "    m=[]\n",
    "    for i in d.keys():\n",
    "        l=[]\n",
    "        l.append(i)\n",
    "        l.append(d.get(i))\n",
    "        m.append(tuple(l))\n",
    "    return m\n",
    "\n",
    "print(func2({\"D\": 1,\"B\": 2,\"C\": 3}))"
   ]
  },
  {
   "cell_type": "code",
   "execution_count": 15,
   "id": "a7e65e8d",
   "metadata": {},
   "outputs": [
    {
     "name": "stdout",
     "output_type": "stream",
     "text": [
      "{'p': 'P', 's': 'S'}\n"
     ]
    }
   ],
   "source": [
    "#Write a function that creates a dictionary with each (key, value) pair being the (lower case,\n",
    "#upper case) versions of a letter, respectively.\n",
    "\n",
    "def func3(l):\n",
    "    d={}\n",
    "    for i in l:\n",
    "        d.update({i:i.upper()})\n",
    "    return d\n",
    "\n",
    "print(func3([\"p\",\"s\"]))"
   ]
  },
  {
   "cell_type": "code",
   "execution_count": 17,
   "id": "df9886fe",
   "metadata": {},
   "outputs": [
    {
     "name": "stdout",
     "output_type": "stream",
     "text": [
      "upplus und bununus\n"
     ]
    }
   ],
   "source": [
    "#Write a function, that replaces all vowels in a string with a specified vowel.\n",
    "\n",
    "def func4(s, v):\n",
    "    l=['a','e','i','o','u']\n",
    "    for i in s:\n",
    "        if i in l:\n",
    "            s=s.replace(i,v)\n",
    "    return s\n",
    "\n",
    "print(func4(\"apples and bananas\", \"u\"))"
   ]
  },
  {
   "cell_type": "code",
   "execution_count": 19,
   "id": "b0898528",
   "metadata": {},
   "outputs": [
    {
     "name": "stdout",
     "output_type": "stream",
     "text": [
      "THe LiTTLe meRmaiD\n"
     ]
    }
   ],
   "source": [
    "#Create a function that takes a string as input and capitalizes a letter if its ASCII code is even\n",
    "#and returns its lower case version if its ASCII code is odd.\n",
    "\n",
    "def func5(s):\n",
    "    for i in s:\n",
    "        if ord(i)%2 == 0:\n",
    "            s=s.replace(i,i.upper())\n",
    "        else:\n",
    "            s=s.replace(i,i.lower())\n",
    "    return s\n",
    "\n",
    "print(func5(\"THE LITTLE MERMAID\"))"
   ]
  },
  {
   "cell_type": "code",
   "execution_count": null,
   "id": "3c21ad92",
   "metadata": {},
   "outputs": [],
   "source": []
  }
 ],
 "metadata": {
  "kernelspec": {
   "display_name": "Python 3 (ipykernel)",
   "language": "python",
   "name": "python3"
  },
  "language_info": {
   "codemirror_mode": {
    "name": "ipython",
    "version": 3
   },
   "file_extension": ".py",
   "mimetype": "text/x-python",
   "name": "python",
   "nbconvert_exporter": "python",
   "pygments_lexer": "ipython3",
   "version": "3.9.12"
  }
 },
 "nbformat": 4,
 "nbformat_minor": 5
}
