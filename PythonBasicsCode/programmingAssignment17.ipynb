{
 "cells": [
  {
   "cell_type": "code",
   "execution_count": 6,
   "id": "b938a8f6",
   "metadata": {},
   "outputs": [
    {
     "data": {
      "text/plain": [
       "30"
      ]
     },
     "execution_count": 6,
     "metadata": {},
     "output_type": "execute_result"
    }
   ],
   "source": [
    "#Question1. Create a function that takes three arguments a, b, c and returns the sum of the\n",
    "#numbers that are evenly divided by c from the range a, b inclusive.\n",
    "def fun1(a,b,c):\n",
    "    if a>b:\n",
    "        return 0\n",
    "    else:\n",
    "        sum=0\n",
    "        for i in range(a,b+1):\n",
    "            if i%c==0:\n",
    "                sum+=i\n",
    "        return sum\n",
    "fun1(1,10,2)       "
   ]
  },
  {
   "cell_type": "code",
   "execution_count": 15,
   "id": "541a12be",
   "metadata": {},
   "outputs": [
    {
     "data": {
      "text/plain": [
       "True"
      ]
     },
     "execution_count": 15,
     "metadata": {},
     "output_type": "execute_result"
    }
   ],
   "source": [
    "def fun2(x):\n",
    "    regexp = eval(x)\n",
    "    if regexp:\n",
    "        return True\n",
    "    else:\n",
    "        return False\n",
    "\n",
    "fun2(\"3<7<11\")\n",
    "        "
   ]
  },
  {
   "cell_type": "code",
   "execution_count": 30,
   "id": "3dfff586",
   "metadata": {},
   "outputs": [
    {
     "name": "stdout",
     "output_type": "stream",
     "text": [
      "th# ##rdv#rk\n"
     ]
    }
   ],
   "source": [
    "#Question3. Create a function that replaces all the vowels in a string with a specified character.\n",
    "\n",
    "def func3(x,key):\n",
    "    l=['a','e','i','o','u']\n",
    "    for i in x[:]:\n",
    "        if i in l:\n",
    "            x=x.replace(i,key)\n",
    "    print(x)\n",
    "        \n",
    "func3('the aardvark','#')"
   ]
  },
  {
   "cell_type": "code",
   "execution_count": 31,
   "id": "f30a0798",
   "metadata": {},
   "outputs": [
    {
     "data": {
      "text/plain": [
       "120"
      ]
     },
     "execution_count": 31,
     "metadata": {},
     "output_type": "execute_result"
    }
   ],
   "source": [
    "#Question4. Write a function that calculates the factorial of a number recursively.\n",
    "\n",
    "def func4(n):\n",
    "    if n==1:\n",
    "        return 1\n",
    "    else:\n",
    "        return n*func4(n-1)\n",
    "    \n",
    "func4(5)"
   ]
  },
  {
   "cell_type": "code",
   "execution_count": 39,
   "id": "6d180c5a",
   "metadata": {},
   "outputs": [
    {
     "data": {
      "text/plain": [
       "0"
      ]
     },
     "execution_count": 39,
     "metadata": {},
     "output_type": "execute_result"
    }
   ],
   "source": [
    "#Hamming distance is the number of characters that differ between two strings.\n",
    "#Create a function that computes the hamming distance between two strings.\n",
    "\n",
    "def ham(x1,x2):\n",
    "    count=0\n",
    "    for i,j in zip(x1[:],x2[:]):\n",
    "        if i==j:\n",
    "            pass\n",
    "        else:\n",
    "            count+=1\n",
    "    return count\n",
    "\n",
    "ham('abcde', 'abcde')"
   ]
  },
  {
   "cell_type": "code",
   "execution_count": null,
   "id": "1247d187",
   "metadata": {},
   "outputs": [],
   "source": []
  }
 ],
 "metadata": {
  "kernelspec": {
   "display_name": "Python 3 (ipykernel)",
   "language": "python",
   "name": "python3"
  },
  "language_info": {
   "codemirror_mode": {
    "name": "ipython",
    "version": 3
   },
   "file_extension": ".py",
   "mimetype": "text/x-python",
   "name": "python",
   "nbconvert_exporter": "python",
   "pygments_lexer": "ipython3",
   "version": "3.9.12"
  }
 },
 "nbformat": 4,
 "nbformat_minor": 5
}
