{
 "cells": [
  {
   "cell_type": "code",
   "execution_count": 1,
   "id": "1d286fe7",
   "metadata": {},
   "outputs": [
    {
     "name": "stdout",
     "output_type": "stream",
     "text": [
      "Enter a number to find its factorial\n",
      "5\n",
      "Factorial of 5 is 120\n"
     ]
    }
   ],
   "source": [
    "#1. Write a Python Program to Find the Factorial of a Number?\n",
    "\n",
    "fact = 1\n",
    "print(\"Enter a number to find its factorial\")\n",
    "x = int(input())\n",
    "for i in range(1, x+1):\n",
    "    fact=fact*i\n",
    "print(\"Factorial of\", x, \"is\", fact)"
   ]
  },
  {
   "cell_type": "code",
   "execution_count": 2,
   "id": "4f6de549",
   "metadata": {},
   "outputs": [
    {
     "name": "stdout",
     "output_type": "stream",
     "text": [
      "Enter a number to display it's multiplication table\n",
      "9\n",
      "9 * 1 = 9\n",
      "9 * 2 = 18\n",
      "9 * 3 = 27\n",
      "9 * 4 = 36\n",
      "9 * 5 = 45\n",
      "9 * 6 = 54\n",
      "9 * 7 = 63\n",
      "9 * 8 = 72\n",
      "9 * 9 = 81\n",
      "9 * 10 = 90\n"
     ]
    }
   ],
   "source": [
    "#2. Write a Python Program to Display the multiplication Table?\n",
    "\n",
    "print(\"Enter a number to display it's multiplication table\")\n",
    "num = int(input())\n",
    "for i in range(1, 11):\n",
    "    print(num,\"*\",i,\"=\",num*i)\n"
   ]
  },
  {
   "cell_type": "code",
   "execution_count": 10,
   "id": "922e3144",
   "metadata": {},
   "outputs": [
    {
     "name": "stdout",
     "output_type": "stream",
     "text": [
      "Enter total terms in fibonacci series\n",
      "8\n",
      "[0, 1, 1, 2, 3, 5, 8, 13, 21]\n"
     ]
    }
   ],
   "source": [
    "*#3. Write a Python Program to Print the Fibonacci sequence?\n",
    "print(\"Enter total terms in fibonacci series\")\n",
    "num = int(input())\n",
    "lis = [0,1]\n",
    "if num==1:\n",
    "    print(lis[0])\n",
    "elif num==2:\n",
    "    print(lis[1])\n",
    "else:\n",
    "    for i in range(2,num+1):\n",
    "        temp = lis[i-1]+lis[i-2]\n",
    "        lis.append(temp)\n",
    "    print(lis)\n",
    "        "
   ]
  },
  {
   "cell_type": "code",
   "execution_count": 4,
   "id": "f306431c",
   "metadata": {},
   "outputs": [
    {
     "name": "stdout",
     "output_type": "stream",
     "text": [
      "Enter a number to check it is armstrong or not\n",
      "153\n",
      "Armstrong number\n"
     ]
    }
   ],
   "source": [
    "#4. Write a Python Program to Check Armstrong Number?\n",
    "print(\"Enter a number to check it is armstrong or not\")\n",
    "x = int(input())\n",
    "temp = x\n",
    "sumo=0\n",
    "while x>0:\n",
    "    r=x%10\n",
    "    sumo = sumo + r*r*r\n",
    "    x = int(x/10)\n",
    "if sumo==temp:\n",
    "    print(\"Armstrong number\")\n",
    "else:\n",
    "    print(\"Not a armstrong number\")\n"
   ]
  },
  {
   "cell_type": "code",
   "execution_count": 14,
   "id": "9730eaec",
   "metadata": {},
   "outputs": [
    {
     "name": "stdout",
     "output_type": "stream",
     "text": [
      "Enter a range to find armstrong numbers in between\n",
      "1\n",
      "1000\n",
      "1 is a Armstrong Number\n",
      "153 is a Armstrong Number\n",
      "370 is a Armstrong Number\n",
      "371 is a Armstrong Number\n",
      "407 is a Armstrong Number\n"
     ]
    }
   ],
   "source": [
    "#5. Write a Python Program to Find Armstrong Number in an Interval?\n",
    "print(\"Enter a range to find armstrong numbers in between\")\n",
    "x1 = int(input())\n",
    "x2 = int(input())\n",
    "if int(x2/10) == 0:\n",
    "    print(\"Only 1 is the armstrong number in the range\")\n",
    "    \n",
    "else:\n",
    "    count=0\n",
    "    for i in range(x1,x2+1):\n",
    "        temp=i\n",
    "        sumo=0\n",
    "        while temp>0:\n",
    "            r=temp%10\n",
    "            sumo = sumo + r*r*r\n",
    "            temp = int(temp/10)\n",
    "        if sumo==i:\n",
    "            count=count+1\n",
    "            print(i,\"is a Armstrong Number\")\n",
    "    if count==0:\n",
    "        print(\"No armstrong in this range\")"
   ]
  },
  {
   "cell_type": "code",
   "execution_count": 16,
   "id": "e28c0eab",
   "metadata": {},
   "outputs": [
    {
     "name": "stdout",
     "output_type": "stream",
     "text": [
      "Enter the range to find sum of natural numbers !\n",
      "1\n",
      "9\n",
      "Sum of natural number is : 45\n"
     ]
    }
   ],
   "source": [
    "#6. Write a Python Program to Find the Sum of Natural Numbers?\n",
    "print(\"Enter the range to find sum of natural numbers !\")\n",
    "x1=int(input())\n",
    "x2=int(input())\n",
    "sum=0\n",
    "for i in range(x1, x2+1):\n",
    "    sum+=i\n",
    "print(\"Sum of natural number is :\", sum)"
   ]
  }
 ],
 "metadata": {
  "kernelspec": {
   "display_name": "Python 3 (ipykernel)",
   "language": "python",
   "name": "python3"
  },
  "language_info": {
   "codemirror_mode": {
    "name": "ipython",
    "version": 3
   },
   "file_extension": ".py",
   "mimetype": "text/x-python",
   "name": "python",
   "nbconvert_exporter": "python",
   "pygments_lexer": "ipython3",
   "version": "3.9.12"
  }
 },
 "nbformat": 4,
 "nbformat_minor": 5
}
