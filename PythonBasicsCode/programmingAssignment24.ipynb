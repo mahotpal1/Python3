{
 "cells": [
  {
   "cell_type": "code",
   "execution_count": 3,
   "id": "1d58884f",
   "metadata": {},
   "outputs": [
    {
     "name": "stdout",
     "output_type": "stream",
     "text": [
      "[1, 2, 3, 40]\n"
     ]
    }
   ],
   "source": [
    "#Create a function that takes an integer and returns a list from 1 to the given number, where:\n",
    "#1. If the number can be divided evenly by 4, amplify it by 10 (i.e. return 10 times the\n",
    "#number).\n",
    "#2. If the number cannot be divided evenly by 4, simply return the number.\n",
    "\n",
    "def func1(x):\n",
    "    l=[]\n",
    "    for i in range(1,x+1):\n",
    "        if i%4==0:\n",
    "            l.append(i*10)\n",
    "        else:\n",
    "            l.append(i)\n",
    "    return l\n",
    "\n",
    "print(func1(4))"
   ]
  },
  {
   "cell_type": "code",
   "execution_count": 8,
   "id": "c6179bf5",
   "metadata": {},
   "outputs": [
    {
     "name": "stdout",
     "output_type": "stream",
     "text": [
      "7\n"
     ]
    }
   ],
   "source": [
    "#Create a function that takes a list of numbers and return the number that&#39;s unique.\n",
    "\n",
    "def func2(l):\n",
    "   for i in l:\n",
    "       if l.count(i)==1:\n",
    "           return i\n",
    "\n",
    "        \n",
    "print(func2([3,3,3,3,3,7,8,8]))"
   ]
  },
  {
   "cell_type": "code",
   "execution_count": 12,
   "id": "629be002",
   "metadata": {},
   "outputs": [
    {
     "name": "stdout",
     "output_type": "stream",
     "text": [
      "61.9  \n",
      "27.88\n"
     ]
    }
   ],
   "source": [
    "#Your task is to create a Circle constructor that creates a circle with a radius provided by an\n",
    "#argument. The circles constructed must have two getters getArea() (PIr^2) and\n",
    "#getPerimeter() (2PI*r) which give both respective areas and perimeter (circumference).\n",
    "\n",
    "class Circle:\n",
    "    def __init__(self,r):\n",
    "        self.r = r\n",
    "    def getArea(self):\n",
    "        a = 3.14*self.r*self.r\n",
    "        return round(a, 2)\n",
    "    def getPerimeter(self):\n",
    "        p = 2*3.14*self.r \n",
    "        return round(p,2)\n",
    "    \n",
    "c = Circle(4.44)\n",
    "print(c.getArea(),\" \")\n",
    "print(c.getPerimeter())"
   ]
  },
  {
   "cell_type": "code",
   "execution_count": 14,
   "id": "85102984",
   "metadata": {},
   "outputs": [
    {
     "name": "stdout",
     "output_type": "stream",
     "text": [
      "['Apple', 'Google', 'Microsoft']\n"
     ]
    }
   ],
   "source": [
    "#Create a function that takes a list of strings and return a list, sorted from shortest to longest.\n",
    "\n",
    "def func4(l):\n",
    "    l.sort()\n",
    "    return l\n",
    "\n",
    "print(func4([\"Apple\", \"Google\", \"Microsoft\"]))"
   ]
  },
  {
   "cell_type": "code",
   "execution_count": 18,
   "id": "96e9d448",
   "metadata": {},
   "outputs": [
    {
     "name": "stdout",
     "output_type": "stream",
     "text": [
      "True\n",
      "False\n"
     ]
    }
   ],
   "source": [
    "#Create a function that validates whether three given integers form a Pythagorean triplet. The\n",
    "#sum of the squares of the two smallest integers must equal the square of the largest number to\n",
    "#be validated.\n",
    "\n",
    "def pyt(x,y,z):\n",
    "    if x<y:\n",
    "        if y<z:\n",
    "            if ((x*x)+(y*y))==(z*z):\n",
    "                return True\n",
    "        else:\n",
    "            if ((x*x)+(z*z))==(y*y):\n",
    "                return True\n",
    "    else:\n",
    "        if x<z:\n",
    "            if ((x*x)+(y*y))==(z*z):\n",
    "                return True\n",
    "        else:\n",
    "            if ((y*y)+(z*z))==(x*x):\n",
    "                return True \n",
    "    return False\n",
    "\n",
    "print(pyt(3,4,5))\n",
    "print(pyt(1,2,3))\n",
    "        "
   ]
  },
  {
   "cell_type": "code",
   "execution_count": null,
   "id": "15573f24",
   "metadata": {},
   "outputs": [],
   "source": []
  }
 ],
 "metadata": {
  "kernelspec": {
   "display_name": "Python 3 (ipykernel)",
   "language": "python",
   "name": "python3"
  },
  "language_info": {
   "codemirror_mode": {
    "name": "ipython",
    "version": 3
   },
   "file_extension": ".py",
   "mimetype": "text/x-python",
   "name": "python",
   "nbconvert_exporter": "python",
   "pygments_lexer": "ipython3",
   "version": "3.9.12"
  }
 },
 "nbformat": 4,
 "nbformat_minor": 5
}
