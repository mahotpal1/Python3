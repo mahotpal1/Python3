{
 "cells": [
  {
   "cell_type": "code",
   "execution_count": 7,
   "id": "713e2ef3",
   "metadata": {},
   "outputs": [
    {
     "name": "stdout",
     "output_type": "stream",
     "text": [
      "100\n",
      "150\n",
      "180\n",
      "\n",
      "Total list elements :  [100, 150, 180]\n",
      "Result when D= 100  : 18\n",
      "Result when D= 150  : 22\n",
      "Result when D= 180  : 24\n"
     ]
    }
   ],
   "source": [
    "#Question 1:\n",
    "import math\n",
    "\n",
    "class A:\n",
    "    def __init__(self,d):\n",
    "        self.D=d\n",
    "        self.C=50\n",
    "        self.H=30\n",
    "    def solution1(self):\n",
    "        ans=(2*self.C*self.D)/self.H\n",
    "        ans=math.sqrt(ans)\n",
    "        return int(ans)\n",
    "\n",
    "try:\n",
    "    l=[]\n",
    "    while True:\n",
    "        l.append(int(input()))\n",
    "except:\n",
    "    print(\"Total list elements : \",l)\n",
    "    \n",
    "for i in l:\n",
    "    a=A(i)\n",
    "    print(\"Result when D=\",i,\" :\", a.solution1())"
   ]
  },
  {
   "cell_type": "code",
   "execution_count": 10,
   "id": "64d745c1",
   "metadata": {},
   "outputs": [
    {
     "name": "stdout",
     "output_type": "stream",
     "text": [
      "Enter number of Rows and Columns : \n",
      "3\n",
      "5\n",
      "[0, 0, 0, 0, 0]\n",
      "[0, 1, 2, 3, 4]\n",
      "[0, 2, 4, 6, 8]\n"
     ]
    }
   ],
   "source": [
    "#Question2\n",
    "\n",
    "class B:\n",
    "    def __init__(self,r,c):\n",
    "        self.Rows=r\n",
    "        self.Cols=c\n",
    "    def soln(self):\n",
    "        l=[]\n",
    "        for i in range(self.Rows):\n",
    "            l1=[]\n",
    "            for j in range(self.Cols):\n",
    "                l1.append(i*j)\n",
    "            l.append(l1)\n",
    "            l1=[]\n",
    "        for i in l:\n",
    "            print(i)\n",
    "\n",
    "print(\"Enter number of Rows and Columns : \")\n",
    "r=int(input())\n",
    "c=int(input())\n",
    "c = B(r,c)\n",
    "c.soln()\n"
   ]
  },
  {
   "cell_type": "code",
   "execution_count": 11,
   "id": "f3bb0bb6",
   "metadata": {},
   "outputs": [
    {
     "name": "stdout",
     "output_type": "stream",
     "text": [
      "Enter a comma seperated words!\n",
      "without,hello,bag,world\n",
      "bag,hello,without,world,\n"
     ]
    }
   ],
   "source": [
    "#Question3\n",
    "class C:\n",
    "    def __init__(self,l):\n",
    "        self.L=l\n",
    "    def sorte(self):\n",
    "        self.L=self.L.lower()\n",
    "        li=l.split(\",\")\n",
    "        li.sort()\n",
    "        s=\"\"\n",
    "        for i in li:\n",
    "            s+=i+\",\"\n",
    "        print(s)\n",
    "            \n",
    "\n",
    "l=[]\n",
    "print(\"Enter a comma seperated words!\")\n",
    "l=input()\n",
    "cl = C(l)\n",
    "cl.sorte()"
   ]
  },
  {
   "cell_type": "code",
   "execution_count": 13,
   "id": "8c77ee41",
   "metadata": {},
   "outputs": [
    {
     "name": "stdout",
     "output_type": "stream",
     "text": [
      "Enter a space seperated words\n",
      "hello world and practice makes perfect and hello world again\n",
      "again and hello makes perfect practice world \n"
     ]
    }
   ],
   "source": [
    "#Question4\n",
    "\n",
    "class D:\n",
    "    def __init__(self,s):\n",
    "        self.S=s\n",
    "    def result(self):\n",
    "        self.S.lower()\n",
    "        l=self.S.split(\" \")\n",
    "        l=set(l)\n",
    "        l=list(l)\n",
    "        l.sort()\n",
    "        str=\"\"\n",
    "        for i in l:\n",
    "            str+=i+\" \"\n",
    "        return str\n",
    "\n",
    "print(\"Enter a space seperated words\")\n",
    "s=input()\n",
    "a = D(s)\n",
    "print(a.result())"
   ]
  },
  {
   "cell_type": "code",
   "execution_count": 16,
   "id": "4937368c",
   "metadata": {},
   "outputs": [
    {
     "name": "stdout",
     "output_type": "stream",
     "text": [
      "Enter a sentence\n",
      "hello world! 123\n",
      "LETTERS 3\n",
      "DIGITS 10\n"
     ]
    }
   ],
   "source": [
    "#Question5\n",
    "class E:\n",
    "    def __init__(self,s):\n",
    "        self.S=s\n",
    "    def result(self):\n",
    "        self.S=self.S.lower()\n",
    "        letters=0\n",
    "        num=0\n",
    "        for i in self.S:\n",
    "            #if ord(i)>=97 and ord(i)<=122:\n",
    "            if i.isalpha():\n",
    "                letters+=1\n",
    "            elif i.isdigit():\n",
    "                num+=1\n",
    "                \n",
    "        print(\"LETTERS\", num)\n",
    "        print(\"DIGITS\", letters)\n",
    "        \n",
    "print(\"Enter a sentence\")\n",
    "s=input()\n",
    "a = E(s)\n",
    "a.result()\n",
    "                "
   ]
  },
  {
   "cell_type": "code",
   "execution_count": 35,
   "id": "656f7b59",
   "metadata": {},
   "outputs": [
    {
     "name": "stdout",
     "output_type": "stream",
     "text": [
      "Enter space seperated passwords\n",
      "ABd1234@1,a F1#,2w3E*,2We3345\n",
      "Allowed Passwords : ABd1234@1\n"
     ]
    }
   ],
   "source": [
    "#Question6\n",
    "\n",
    "class F:\n",
    "    def __init__(self,k):\n",
    "        self.K=k\n",
    "    def output(self):\n",
    "        flag1=False\n",
    "        flag2=False\n",
    "        flag3=False\n",
    "        flag4=False\n",
    "        l=['$','#','@']\n",
    "        if len(self.K)<6 or len(self.K)>12:\n",
    "            return False\n",
    "        for i in range(len(self.K)):\n",
    "            if ord(self.K[i])>=97 and ord(self.K[i])<=122:\n",
    "                flag1=True\n",
    "            elif self.K[i].isdigit():\n",
    "                flag2=True\n",
    "            elif ord(self.K[i])>=65 and ord(self.K[i])<=92:\n",
    "                flag3=True\n",
    "            elif self.K[i] in l:\n",
    "                flag4=True\n",
    "            else:\n",
    "                pass\n",
    "        return flag1 and flag2 and flag3 and flag4\n",
    "\n",
    "print(\"Enter space seperated passwords\")\n",
    "c = input()\n",
    "l=c.split(\",\")\n",
    "for i in l:\n",
    "    cl=F(i)\n",
    "    if cl.output():\n",
    "        print(\"Allowed Passwords :\",i)\n",
    "    else:\n",
    "        pass"
   ]
  },
  {
   "cell_type": "code",
   "execution_count": null,
   "id": "13635f0d",
   "metadata": {},
   "outputs": [],
   "source": []
  },
  {
   "cell_type": "code",
   "execution_count": null,
   "id": "de7b583e",
   "metadata": {},
   "outputs": [],
   "source": []
  }
 ],
 "metadata": {
  "kernelspec": {
   "display_name": "Python 3 (ipykernel)",
   "language": "python",
   "name": "python3"
  },
  "language_info": {
   "codemirror_mode": {
    "name": "ipython",
    "version": 3
   },
   "file_extension": ".py",
   "mimetype": "text/x-python",
   "name": "python",
   "nbconvert_exporter": "python",
   "pygments_lexer": "ipython3",
   "version": "3.9.12"
  }
 },
 "nbformat": 4,
 "nbformat_minor": 5
}
