{
 "cells": [
  {
   "cell_type": "code",
   "execution_count": 5,
   "id": "1de8ad9d",
   "metadata": {},
   "outputs": [
    {
     "name": "stdout",
     "output_type": "stream",
     "text": [
      "Enter total number of terms to display fibonacci series:\n",
      "16\n",
      "[0, 1, 1, 3, 5, 7, 9, 11, 13, 15, 17, 19, 21, 23, 25, 27]\n"
     ]
    }
   ],
   "source": [
    "#1. Write a Python Program to Display Fibonacci Sequence Using Recursion?\n",
    "def fib_rec(n):\n",
    "    if n==0:\n",
    "        return 0\n",
    "    elif n==1:\n",
    "        return 1\n",
    "    else:\n",
    "        return (n-1)+(n-2)\n",
    "print(\"Enter total number of terms to display fibonacci series:\")\n",
    "x = int(input())\n",
    "l=[]\n",
    "for i in range(x):\n",
    "    l.append(fib_rec(i))\n",
    "print(l)"
   ]
  },
  {
   "cell_type": "code",
   "execution_count": 7,
   "id": "5f250d6c",
   "metadata": {},
   "outputs": [
    {
     "name": "stdout",
     "output_type": "stream",
     "text": [
      "Enter a number to find its factorial\n",
      "5\n",
      "120\n"
     ]
    }
   ],
   "source": [
    "#2. Write a Python Program to Find Factorial of Number Using Recursion?\n",
    "def fact_rec(n):\n",
    "    if n==1:\n",
    "        return 1\n",
    "    else:\n",
    "        return n*fact_rec(n-1)\n",
    "print(\"Enter a number to find its factorial\")\n",
    "x = int(input())\n",
    "print(fact_rec(x))"
   ]
  },
  {
   "cell_type": "code",
   "execution_count": 11,
   "id": "8a022487",
   "metadata": {},
   "outputs": [
    {
     "name": "stdout",
     "output_type": "stream",
     "text": [
      "My BMI is : 23.342223328816512 i'm healthy :)\n"
     ]
    }
   ],
   "source": [
    "#3. Write a Python Program to calculate your Body Mass Index?\n",
    "my_weight = 78\n",
    "my_height = 1.828\n",
    "bmi = my_weight/(my_height*my_height)\n",
    "print(\"My BMI is :\", bmi, \"i'm healthy :)\")"
   ]
  },
  {
   "cell_type": "code",
   "execution_count": 16,
   "id": "fc64c96f",
   "metadata": {},
   "outputs": [
    {
     "name": "stdout",
     "output_type": "stream",
     "text": [
      "Enter a number to calculate Natural LOg\n",
      "12\n",
      "0.40242960438184466\n"
     ]
    }
   ],
   "source": [
    "#4. Write a Python Program to calculate the natural logarithm of any number?\n",
    "\n",
    "import math\n",
    "\n",
    "def log_func(n,b=math.e):\n",
    "    return math.log(b,n)\n",
    "print(\"Enter a number to calculate Natural LOg\")\n",
    "x = int(input())\n",
    "print(log_func(x))"
   ]
  },
  {
   "cell_type": "code",
   "execution_count": 17,
   "id": "29f95d5a",
   "metadata": {},
   "outputs": [
    {
     "name": "stdout",
     "output_type": "stream",
     "text": [
      "Enter range of natural numbers to calculate cube sum\n",
      "3\n",
      "36\n"
     ]
    }
   ],
   "source": [
    "#5.Write a Python Program for cube sum of first n natural numbers?\n",
    "def cube_sum(n):\n",
    "    if n==1:\n",
    "        return 1\n",
    "    else:\n",
    "        return (n*n*n)+cube_sum(n-1)\n",
    "print(\"Enter range of natural numbers to calculate cube sum\")\n",
    "x= int(input())\n",
    "print(cube_sum(x))"
   ]
  }
 ],
 "metadata": {
  "kernelspec": {
   "display_name": "Python 3 (ipykernel)",
   "language": "python",
   "name": "python3"
  },
  "language_info": {
   "codemirror_mode": {
    "name": "ipython",
    "version": 3
   },
   "file_extension": ".py",
   "mimetype": "text/x-python",
   "name": "python",
   "nbconvert_exporter": "python",
   "pygments_lexer": "ipython3",
   "version": "3.9.12"
  }
 },
 "nbformat": 4,
 "nbformat_minor": 5
}
