{
 "cells": [
  {
   "cell_type": "code",
   "execution_count": 8,
   "id": "18881611",
   "metadata": {},
   "outputs": [
    {
     "name": "stdout",
     "output_type": "stream",
     "text": [
      "SSttrriinngg\n"
     ]
    }
   ],
   "source": [
    "#Create a function that takes a string and returns a string in which each character is repeated\n",
    "#once.\n",
    "\n",
    "def repeat(s):\n",
    "    l=\"\"\n",
    "    for i in range(len(s)+1):\n",
    "        l+=s[i:i+1]\n",
    "        l+=s[i:i+1]\n",
    "    return l        \n",
    "\n",
    "print(repeat(\"String\"))"
   ]
  },
  {
   "cell_type": "code",
   "execution_count": 11,
   "id": "c8c474b5",
   "metadata": {},
   "outputs": [
    {
     "name": "stdout",
     "output_type": "stream",
     "text": [
      "False\n",
      "boolean expected\n"
     ]
    }
   ],
   "source": [
    "#Create a function that reverses a boolean value and returns the string &quot;boolean expected&quot;\n",
    "#if another variable type is given.\n",
    "\n",
    "def func(x):\n",
    "    if type(x) != bool:\n",
    "        return \"boolean expected\"\n",
    "    else:\n",
    "        return not x\n",
    "    \n",
    "print(func(True))\n",
    "print(func(0))"
   ]
  },
  {
   "cell_type": "code",
   "execution_count": 18,
   "id": "6218ad39",
   "metadata": {},
   "outputs": [
    {
     "name": "stdout",
     "output_type": "stream",
     "text": [
      "After folding :  1.0 mm (Equal to :  0.001 m)\n",
      "After folding :  8.0 mm (Equal to :  0.008 m)\n",
      "After folding :  1048576.0 mm (Equal to :  1048.576 m)\n"
     ]
    }
   ],
   "source": [
    "#Create a function that returns the thickness (in meters) of a piece of paper after folding it n\n",
    "#number of times. The paper starts off with a thickness of 0.5mm.\n",
    "\n",
    "def func(x,area=0.5):\n",
    "    for i in range(x):\n",
    "        area=area*2\n",
    "    return area\n",
    "\n",
    "print(\"After folding : \",func(1),\"mm (Equal to : \",func(1)/1000, \"m)\")\n",
    "print(\"After folding : \",func(4),\"mm (Equal to : \",func(4)/1000, \"m)\")\n",
    "print(\"After folding : \",func(21),\"mm (Equal to : \",func(21)/1000, \"m)\")"
   ]
  },
  {
   "cell_type": "code",
   "execution_count": 26,
   "id": "b78b252b",
   "metadata": {},
   "outputs": [
    {
     "name": "stdout",
     "output_type": "stream",
     "text": [
      "[1, 3, 5]\n"
     ]
    }
   ],
   "source": [
    "#Create a function that takes a single string as argument and returns an ordered list containing\n",
    "#the indices of all capital letters in the string.\n",
    "\n",
    "def func(s):\n",
    "    j=0\n",
    "    l=[]\n",
    "    for i in s:\n",
    "        if i.isupper():\n",
    "            l.append(j)\n",
    "        j=j+1\n",
    "    l.sort()\n",
    "    return l\n",
    "\n",
    "print(func(\"eDaBiT\"))\n"
   ]
  },
  {
   "cell_type": "code",
   "execution_count": 27,
   "id": "f08abdcc",
   "metadata": {},
   "outputs": [
    {
     "name": "stdout",
     "output_type": "stream",
     "text": [
      "[2, 4, 6, 8]\n"
     ]
    }
   ],
   "source": [
    "#Using list comprehensions, create a function that finds all even numbers from 1 to the given\n",
    "#number.\n",
    "\n",
    "def fun(x):\n",
    "    l=[]\n",
    "    for i in range(1,x+1):\n",
    "        if i%2==0:\n",
    "            l.append(i)\n",
    "    return l\n",
    "\n",
    "print(fun(8))"
   ]
  },
  {
   "cell_type": "code",
   "execution_count": null,
   "id": "bd9d0155",
   "metadata": {},
   "outputs": [],
   "source": []
  }
 ],
 "metadata": {
  "kernelspec": {
   "display_name": "Python 3 (ipykernel)",
   "language": "python",
   "name": "python3"
  },
  "language_info": {
   "codemirror_mode": {
    "name": "ipython",
    "version": 3
   },
   "file_extension": ".py",
   "mimetype": "text/x-python",
   "name": "python",
   "nbconvert_exporter": "python",
   "pygments_lexer": "ipython3",
   "version": "3.9.12"
  }
 },
 "nbformat": 4,
 "nbformat_minor": 5
}
