{
 "cells": [
  {
   "cell_type": "code",
   "execution_count": 9,
   "id": "6c120a9f",
   "metadata": {},
   "outputs": [
    {
     "name": "stdout",
     "output_type": "stream",
     "text": [
      "1\n",
      "2\n",
      "3\n",
      "4\n",
      "[[1, 2], [3, 4]]\n",
      "5\n",
      "6\n",
      "7\n",
      "8\n",
      "[[5, 6], [7, 8]]\n",
      "[6, 8]\n",
      "[10, 12]\n"
     ]
    }
   ],
   "source": [
    "#1. Write a Python Program to Add Two Matrices?\n",
    "\n",
    "class Matrix:\n",
    "    def __init__(self,m,n):\n",
    "        self.m=m\n",
    "        self.n=n\n",
    "    def create_matrix(self):\n",
    "        l1=[]\n",
    "        for i in range(self.m):\n",
    "            l2=[]\n",
    "            for j in range(self.n):\n",
    "                x = int(input())\n",
    "                l2.append(x)\n",
    "            l1.append(l2)\n",
    "        return l1 \n",
    "    def add_matrix(self,l1,l2):\n",
    "        lnew=[]\n",
    "        for i in range(self.m):\n",
    "            lnew0=[]\n",
    "            for j in range(self.n):\n",
    "                x=l1[i][j]+l2[i][j]\n",
    "                lnew0.append(x)\n",
    "            lnew.append(lnew0)\n",
    "        return lnew\n",
    "a=Matrix(2,2)\n",
    "m1=a.create_matrix()\n",
    "print(m1)\n",
    "m2=a.create_matrix()\n",
    "print(m2)\n",
    "for i in a.add_matrix(m1,m2):\n",
    "    print(i)\n",
    "                "
   ]
  },
  {
   "cell_type": "code",
   "execution_count": 12,
   "id": "d268633c",
   "metadata": {},
   "outputs": [
    {
     "name": "stdout",
     "output_type": "stream",
     "text": [
      "[88, 131]\n",
      "[40, 57]\n"
     ]
    }
   ],
   "source": [
    "#2. Write a Python Program to Multiply Two Matrices?\n",
    "\n",
    "A = [[12, 7],[4, 5]]\n",
    "\n",
    "B = [[5, 8],[4, 5]]\n",
    "     \n",
    "result = [[0, 0],\n",
    "        [0, 0]]\n",
    " \n",
    "for i in range(len(A)):\n",
    "    for j in range(len(B[0])):\n",
    "        for k in range(len(B)):\n",
    "            result[i][j] += A[i][k] * B[k][j]\n",
    " \n",
    "for r in result:\n",
    "    print(r)"
   ]
  },
  {
   "cell_type": "code",
   "execution_count": 13,
   "id": "cbee992e",
   "metadata": {},
   "outputs": [
    {
     "name": "stdout",
     "output_type": "stream",
     "text": [
      "[12, 3]\n",
      "[7, 8]\n"
     ]
    }
   ],
   "source": [
    "#3. Write a Python Program to Transpose a Matrix?\n",
    "X = [[12,7],[3 ,8]]\n",
    "\n",
    "result = [[0,0],[0,0]]\n",
    "\n",
    "for i in range(len(X)):\n",
    "   for j in range(len(X[0])):\n",
    "       result[j][i] = X[i][j]\n",
    "\n",
    "for r in result:\n",
    "   print(r)"
   ]
  },
  {
   "cell_type": "code",
   "execution_count": 16,
   "id": "3aee7a43",
   "metadata": {},
   "outputs": [
    {
     "name": "stdout",
     "output_type": "stream",
     "text": [
      "BHelloWorlda\n"
     ]
    }
   ],
   "source": [
    "#4. Write a Python Program to Sort Words in Alphabetic Order?\n",
    "\n",
    "def func4(word):\n",
    "    l=word.split()\n",
    "    l.sort()\n",
    "    s=\"\"\n",
    "    for i in l:\n",
    "        s+=i\n",
    "    return s\n",
    "\n",
    "print(func4(\"Hello World a B\"))"
   ]
  },
  {
   "cell_type": "code",
   "execution_count": 21,
   "id": "38c6c6dc",
   "metadata": {},
   "outputs": [
    {
     "name": "stdout",
     "output_type": "stream",
     "text": [
      "Hi My name is Vishal And im not  terrorist\n"
     ]
    }
   ],
   "source": [
    "#5. Write a Python Program to Remove Punctuation From a String?\n",
    "\n",
    "def rem(s):\n",
    "    p=['.','?',';','!']\n",
    "    for i in s:\n",
    "        if i in p:\n",
    "            s=s.replace(i,'')\n",
    "    return s\n",
    "\n",
    "print(rem(\"Hi! My name is Vishal. And im not  terrorist.\"))"
   ]
  },
  {
   "cell_type": "code",
   "execution_count": null,
   "id": "6a37bb5f",
   "metadata": {},
   "outputs": [],
   "source": []
  }
 ],
 "metadata": {
  "kernelspec": {
   "display_name": "Python 3 (ipykernel)",
   "language": "python",
   "name": "python3"
  },
  "language_info": {
   "codemirror_mode": {
    "name": "ipython",
    "version": 3
   },
   "file_extension": ".py",
   "mimetype": "text/x-python",
   "name": "python",
   "nbconvert_exporter": "python",
   "pygments_lexer": "ipython3",
   "version": "3.9.12"
  }
 },
 "nbformat": 4,
 "nbformat_minor": 5
}
