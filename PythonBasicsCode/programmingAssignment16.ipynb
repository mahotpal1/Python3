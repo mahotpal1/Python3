{
 "cells": [
  {
   "cell_type": "code",
   "execution_count": 1,
   "id": "e0aa521a",
   "metadata": {},
   "outputs": [
    {
     "data": {
      "text/plain": [
       "'ou... ou... outstanding'"
      ]
     },
     "execution_count": 1,
     "metadata": {},
     "output_type": "execute_result"
    }
   ],
   "source": [
    "#Write a function that stutters a word as if someone is struggling to read it. The\n",
    "#first two letters are repeated twice with an ellipsis ... and space after each, and then the\n",
    "#word is pronounced with a question mark\n",
    "\n",
    "def shutter(s):\n",
    "    t=s[0:2]+\"... \"+s[0:2]+\"... \"+s\n",
    "    return t\n",
    "\n",
    "shutter(\"outstanding\")\n",
    "    "
   ]
  },
  {
   "cell_type": "code",
   "execution_count": 5,
   "id": "ae463486",
   "metadata": {},
   "outputs": [
    {
     "name": "stdout",
     "output_type": "stream",
     "text": [
      "1145.9\n"
     ]
    }
   ],
   "source": [
    "def radian_to_degree(a):\n",
    "    d = a*57.295\n",
    "    return \"{:.1f}\".format(d) \n",
    "\n",
    "print(radian_to_degree(20))"
   ]
  },
  {
   "cell_type": "code",
   "execution_count": 11,
   "id": "7e2b582d",
   "metadata": {},
   "outputs": [
    {
     "data": {
      "text/plain": [
       "True"
      ]
     },
     "execution_count": 11,
     "metadata": {},
     "output_type": "execute_result"
    }
   ],
   "source": [
    "#Question 3. In this challenge, establish if a given integer num is a Curzon number. If 1 plus\n",
    "#2 elevated to num is exactly divisible by 1 plus 2 multiplied by num, then num is a Curzon\n",
    "#number.\n",
    "\n",
    "def isCurzon(n):\n",
    "    if (1+(2**n))%(1+(2*n))==0:\n",
    "        return True\n",
    "    else:\n",
    "        return False\n",
    "isCurzon(5)"
   ]
  },
  {
   "cell_type": "code",
   "execution_count": 14,
   "id": "2c872c4c",
   "metadata": {},
   "outputs": [
    {
     "name": "stdout",
     "output_type": "stream",
     "text": [
      "23.4\n"
     ]
    }
   ],
   "source": [
    "#Question 4.Given the side length x find the area of a hexagon.\n",
    "import math\n",
    "\n",
    "def area(x):\n",
    "    a = (3*math.sqrt(3)*x*x)/2\n",
    "    return \"{:.1f}\".format(a)\n",
    "\n",
    "print(area(3))"
   ]
  },
  {
   "cell_type": "code",
   "execution_count": 27,
   "id": "10bb17e0",
   "metadata": {},
   "outputs": [
    {
     "name": "stdout",
     "output_type": "stream",
     "text": [
      "]1 ,0 ,1 ,0[\n"
     ]
    }
   ],
   "source": [
    "#Question 5. Create a function that returns a base-2 (binary) representation of a base-10\n",
    "#(decimal) string number. To convert is simple: ((2) means base-2 and (10) means base-10)\n",
    "#010101001(2) = 1 + 8 + 32 + 128.\n",
    "def binary(x):\n",
    "    l=[]\n",
    "    while x>0:\n",
    "        l.append(x%2)\n",
    "        x=int(x/2)\n",
    "    print(str(l)[::-1])\n",
    "\n",
    "binary(10)"
   ]
  },
  {
   "cell_type": "code",
   "execution_count": null,
   "id": "763a21b3",
   "metadata": {},
   "outputs": [],
   "source": []
  }
 ],
 "metadata": {
  "kernelspec": {
   "display_name": "Python 3 (ipykernel)",
   "language": "python",
   "name": "python3"
  },
  "language_info": {
   "codemirror_mode": {
    "name": "ipython",
    "version": 3
   },
   "file_extension": ".py",
   "mimetype": "text/x-python",
   "name": "python",
   "nbconvert_exporter": "python",
   "pygments_lexer": "ipython3",
   "version": "3.9.12"
  }
 },
 "nbformat": 4,
 "nbformat_minor": 5
}
