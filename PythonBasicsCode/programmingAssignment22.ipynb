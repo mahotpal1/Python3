{
 "cells": [
  {
   "cell_type": "code",
   "execution_count": 1,
   "id": "c2c6f9c0",
   "metadata": {},
   "outputs": [
    {
     "name": "stdout",
     "output_type": "stream",
     "text": [
      "[3, 6, 9]\n"
     ]
    }
   ],
   "source": [
    "#Return an ordered list with numbers in the range that are divisible by the third parameter n.\n",
    "#Return an empty list if there are no numbers that are divisible by n.\n",
    "\n",
    "def func1(x,y,n):\n",
    "    l=[]\n",
    "    for i in range(x,y+1):\n",
    "        if i%n==0:\n",
    "            l.append(i)\n",
    "    l.sort()\n",
    "    return l\n",
    "\n",
    "print(func1(1,10,3))"
   ]
  },
  {
   "cell_type": "code",
   "execution_count": 9,
   "id": "e19a6203",
   "metadata": {},
   "outputs": [
    {
     "name": "stdout",
     "output_type": "stream",
     "text": [
      "True\n"
     ]
    }
   ],
   "source": [
    "#Create a function that takes in two lists and returns True if the second list follows the first list\n",
    "#by one element, and False otherwise. In other words, determine if the second list is the first\n",
    "#list shifted to the right by 1.\n",
    "\n",
    "def func2(l1,l2):\n",
    "    for i in range(len(l1)-1):\n",
    "        if l1[i]!=l2[i+1]:\n",
    "            return False\n",
    "    return True\n",
    "        \n",
    "print(func2([1,2,3,4,5],[0,1,2,3,4]))"
   ]
  },
  {
   "cell_type": "code",
   "execution_count": 12,
   "id": "8fdce565",
   "metadata": {},
   "outputs": [
    {
     "name": "stdout",
     "output_type": "stream",
     "text": [
      "AMS\n"
     ]
    }
   ],
   "source": [
    "#A group of friends have decided to start a secret society. The name will be the first letter of\n",
    "#each of their names, sorted in alphabetical order.\n",
    "#Create a function that takes in a list of names and returns the name of the secret society.\n",
    "\n",
    "def func3(l):\n",
    "    lnew=[]\n",
    "    for i in l:\n",
    "        lnew.append(i[0])\n",
    "    lnew.sort()\n",
    "    s=\"\"\n",
    "    for i in lnew:\n",
    "        s+=i\n",
    "    return s\n",
    "\n",
    "print(func3([\"Adam\", \"Sara\", \"Malcolm\"]))"
   ]
  },
  {
   "cell_type": "code",
   "execution_count": 27,
   "id": "bcd857dd",
   "metadata": {},
   "outputs": [
    {
     "name": "stdout",
     "output_type": "stream",
     "text": [
      "True\n",
      "False\n"
     ]
    }
   ],
   "source": [
    "#An isogram is a word that has no duplicate letters. Create a function that takes a string and\n",
    "#returns either True or False depending on whether or not it&#39;s an &quot;isogram&quot;.\n",
    "\n",
    "def func4(s):\n",
    "    s=s.lower()\n",
    "    l=list(s)\n",
    "    lnew=set(l)\n",
    "    if len(l)==len(lnew):\n",
    "        return True\n",
    "    else:\n",
    "        return False\n",
    "print(func4(\"Algorithm\"))\n",
    "print(func4(\"pasSword\"))"
   ]
  },
  {
   "cell_type": "code",
   "execution_count": 28,
   "id": "627e6306",
   "metadata": {},
   "outputs": [
    {
     "name": "stdout",
     "output_type": "stream",
     "text": [
      "True\n",
      "False\n"
     ]
    }
   ],
   "source": [
    "#Create a function that takes a string and returns True or False, depending on whether the\n",
    "#characters are in order or not.\n",
    "\n",
    "def func5(s):\n",
    "    old=s\n",
    "    new=list(s)\n",
    "    new.sort()\n",
    "    t=\"\"\n",
    "    for i in new:\n",
    "        t+=i\n",
    "    if old==t:\n",
    "        return True\n",
    "    else:\n",
    "        return False\n",
    "    \n",
    "print(func5(\"abc\"))\n",
    "print(func5(\"edabit\"))    "
   ]
  },
  {
   "cell_type": "code",
   "execution_count": null,
   "id": "d65cbf6e",
   "metadata": {},
   "outputs": [],
   "source": []
  }
 ],
 "metadata": {
  "kernelspec": {
   "display_name": "Python 3 (ipykernel)",
   "language": "python",
   "name": "python3"
  },
  "language_info": {
   "codemirror_mode": {
    "name": "ipython",
    "version": 3
   },
   "file_extension": ".py",
   "mimetype": "text/x-python",
   "name": "python",
   "nbconvert_exporter": "python",
   "pygments_lexer": "ipython3",
   "version": "3.9.12"
  }
 },
 "nbformat": 4,
 "nbformat_minor": 5
}
