{
 "cells": [
  {
   "cell_type": "code",
   "execution_count": 9,
   "id": "be51af7a",
   "metadata": {},
   "outputs": [
    {
     "name": "stdout",
     "output_type": "stream",
     "text": [
      "{'Vishal', 'Hamreet', 'Pallabi', 'Bhavesh', 'Harsh'}\n"
     ]
    }
   ],
   "source": [
    "#1. Write a Python program to Extract Unique values dictionary values?\n",
    "\n",
    "class Disct1:\n",
    "    def __init__(self,d):\n",
    "        self.diry = d\n",
    "    def extractU(self):\n",
    "        l=[]\n",
    "        for i in self.diry.items():\n",
    "            l.append(i[1])\n",
    "        return set(l)\n",
    "    def caller(self):\n",
    "        print(self.extractU())\n",
    "        \n",
    "a=Disct1({1:\"Vishal\",2:\"Vishal\",3:\"Hamreet\",4:\"Harsh\",5:\"Pallabi\",6:\"Pallabi\",7:\"Bhavesh\"})\n",
    "a.caller()"
   ]
  },
  {
   "cell_type": "code",
   "execution_count": 14,
   "id": "cba8016b",
   "metadata": {},
   "outputs": [
    {
     "name": "stdout",
     "output_type": "stream",
     "text": [
      "14\n"
     ]
    }
   ],
   "source": [
    "#2. Write a Python program to find the sum of all items in a dictionary?\n",
    "class Disct2:\n",
    "    def __init__(self,d):\n",
    "        self.diry=d\n",
    "    def sumItems(self):\n",
    "        sum=0\n",
    "        for i in self.diry.items():\n",
    "            sum+=i[0]+i[1]\n",
    "        return sum\n",
    "    def display(self):\n",
    "        print(self.sumItems())\n",
    "        \n",
    "d = Disct2({1:2,2:2,3:4})\n",
    "d.display()"
   ]
  },
  {
   "cell_type": "code",
   "execution_count": 18,
   "id": "3973950f",
   "metadata": {},
   "outputs": [
    {
     "name": "stdout",
     "output_type": "stream",
     "text": [
      "{1: 2, 3: 4, 2: 3, 'a': 'Vishal', 'b': 4, 'c': 'Pallabi'}\n"
     ]
    }
   ],
   "source": [
    "class Disct3:\n",
    "    def __init__(self,d1,d2):\n",
    "        self.diry1=d1\n",
    "        self.diry2=d2\n",
    "    def mergeD(self):\n",
    "        l=[]\n",
    "        for i in self.diry1.items():\n",
    "            l.append(i)\n",
    "        for i in self.diry2.items():\n",
    "            l.append(i)\n",
    "        return dict(l)\n",
    "    def display(self):\n",
    "        print(self.mergeD())\n",
    "        \n",
    "d=Disct3({1:2,3:4,2:3},{'a':'Vishal','b':4,'c':'Pallabi'})\n",
    "d.display()"
   ]
  },
  {
   "cell_type": "code",
   "execution_count": 49,
   "id": "c55550b5",
   "metadata": {},
   "outputs": [
    {
     "name": "stdout",
     "output_type": "stream",
     "text": [
      "{1: 2, 3: 4, 5: 6, 7: 8, 'a': 'b'}\n"
     ]
    }
   ],
   "source": [
    "#4. Write a Python program to convert key-values list to flat dictionary?\n",
    "\n",
    "class Disct4:\n",
    "    def __init__(self,d):\n",
    "        self.d=d\n",
    "        \n",
    "    def convert(self):\n",
    "        l={}\n",
    "        l={self.d[i]:self.d[i+1] for i in range(0,len(self.d),2)}\n",
    "        return l\n",
    "    \n",
    "c = Disct4([1,2,3,4,5,6,7,8,'a','b'])\n",
    "print(c.convert())"
   ]
  },
  {
   "cell_type": "code",
   "execution_count": 48,
   "id": "1f8e8744",
   "metadata": {},
   "outputs": [
    {
     "name": "stdout",
     "output_type": "stream",
     "text": [
      "{8: 9, 1: 2, 2: 3, 6: 7}\n"
     ]
    }
   ],
   "source": [
    "#5. Write a Python program to insertion at the beginning in OrderedDict?\n",
    "class Disct4:\n",
    "    def __init__(self,d):\n",
    "        self.d=d\n",
    "        \n",
    "    def convert(self,k):\n",
    "        l=[]\n",
    "        for i in k.items():\n",
    "            l.append(i[0])\n",
    "            l.append(i[1])\n",
    "        for i in self.d.items():\n",
    "            l.append(i[0])\n",
    "            l.append(i[1])\n",
    "        c={l[i]:l[i+1] for i in range(0,len(l),2)}\n",
    "        return c\n",
    "    \n",
    "c = Disct4({1:2,2:3,6:7})\n",
    "print(c.convert({8:9}))\n",
    "\n"
   ]
  },
  {
   "cell_type": "code",
   "execution_count": 51,
   "id": "1bec9f49",
   "metadata": {},
   "outputs": [
    {
     "name": "stdout",
     "output_type": "stream",
     "text": [
      "False\n"
     ]
    }
   ],
   "source": [
    "#6. Write a Python program to check order of character in string using OrderedDict()?\n",
    "from collections import OrderedDict \n",
    "def checkOrder(string, pattern): \n",
    "    dic = OrderedDict.fromkeys(string) \n",
    "    ptr = 0\n",
    "    for key,value in dic.items(): \n",
    "        if (key == pattern[ptr]): \n",
    "            ptr = ptr + 1\n",
    "        if (ptr == (len(pattern))): \n",
    "            return 'True'\n",
    "    return 'False'\n",
    "\n",
    "string = 'Study tonight'\n",
    "pattern = 'stu'\n",
    "print (checkOrder(string,pattern))"
   ]
  },
  {
   "cell_type": "code",
   "execution_count": 53,
   "id": "4f1b3dda",
   "metadata": {},
   "outputs": [
    {
     "name": "stdout",
     "output_type": "stream",
     "text": [
      "Keys are\n",
      "1 2 3 4 5 6 "
     ]
    }
   ],
   "source": [
    "#7. Write a Python program to sort Python Dictionaries by Key or Value?\n",
    "def dictionairy():   \n",
    "   key_value ={}   \n",
    "   key_value[2] = 56      \n",
    "   key_value[1] = 2\n",
    "   key_value[5] = 12\n",
    "   key_value[4] = 24\n",
    "   key_value[6] = 18     \n",
    "   key_value[3] = 323\n",
    "   print (\"Keys are\")\n",
    "   for i in sorted (key_value.keys()) :\n",
    "       print(i, end = \" \")\n",
    " \n",
    "def main():\n",
    "    dictionairy()            \n",
    "     \n",
    "if __name__==\"__main__\":     \n",
    "    main()"
   ]
  },
  {
   "cell_type": "code",
   "execution_count": null,
   "id": "8e20e3a6",
   "metadata": {},
   "outputs": [],
   "source": []
  }
 ],
 "metadata": {
  "kernelspec": {
   "display_name": "Python 3 (ipykernel)",
   "language": "python",
   "name": "python3"
  },
  "language_info": {
   "codemirror_mode": {
    "name": "ipython",
    "version": 3
   },
   "file_extension": ".py",
   "mimetype": "text/x-python",
   "name": "python",
   "nbconvert_exporter": "python",
   "pygments_lexer": "ipython3",
   "version": "3.9.12"
  }
 },
 "nbformat": 4,
 "nbformat_minor": 5
}
