{
 "cells": [
  {
   "cell_type": "code",
   "execution_count": 3,
   "id": "23167aed",
   "metadata": {},
   "outputs": [
    {
     "name": "stdout",
     "output_type": "stream",
     "text": [
      "Lcm is : 60\n"
     ]
    }
   ],
   "source": [
    "#1. Write a Python Program to Find LCM?\n",
    "a=10\n",
    "b=12\n",
    "if a>b:\n",
    "    max=a\n",
    "else:\n",
    "    max=b\n",
    "while(True):\n",
    "    if(max%a==0 and max%b==0):\n",
    "        print(\"Lcm is :\",max)\n",
    "        break\n",
    "    max=max+1\n",
    "    "
   ]
  },
  {
   "cell_type": "code",
   "execution_count": 9,
   "id": "b9713f98",
   "metadata": {},
   "outputs": [
    {
     "name": "stdout",
     "output_type": "stream",
     "text": [
      "Hcf is : 27\n"
     ]
    }
   ],
   "source": [
    "#2. Write a Python Program to Find HCF?\n",
    "a=27\n",
    "b=81\n",
    "if(a<b):\n",
    "    min=a\n",
    "else:\n",
    "    min=b\n",
    "for i in range(2,min+1):\n",
    "    if a%i==0 and b%i==0:\n",
    "        hcf=i\n",
    "print(\"Hcf is :\",i)"
   ]
  },
  {
   "cell_type": "code",
   "execution_count": 12,
   "id": "7d3d617a",
   "metadata": {},
   "outputs": [
    {
     "name": "stdout",
     "output_type": "stream",
     "text": [
      "Enter a decimal number:\n",
      "12\n",
      "binary of 12 is : 1100\n"
     ]
    }
   ],
   "source": [
    "#3. Write a Python Program to Convert Decimal to Binary, Octal and Hexadecimal?\n",
    "#decimal to binary:\n",
    "print(\"Enter a decimal number:\")\n",
    "a = int(input())\n",
    "temp=a\n",
    "l=[]\n",
    "while temp>0:\n",
    "    l.append(temp%2)\n",
    "    temp=int(temp/2)\n",
    "l.reverse()\n",
    "binary=0\n",
    "for i in l:\n",
    "    binary=binary*10+i\n",
    "print(\"binary of\",a,\"is :\",binary)\n"
   ]
  },
  {
   "cell_type": "code",
   "execution_count": 15,
   "id": "7dc8ba8b",
   "metadata": {},
   "outputs": [
    {
     "name": "stdout",
     "output_type": "stream",
     "text": [
      "Enter a octal number:\n",
      "5123\n",
      "Hexadecimal is : a53\n"
     ]
    }
   ],
   "source": [
    "#octal to hexadecimal:\n",
    "print(\"Enter a octal number:\")\n",
    "a = input()\n",
    "a = int(a,8)\n",
    "a=hex(a).replace(\"0x\",\"\")\n",
    "print(\"Hexadecimal is :\", h)"
   ]
  },
  {
   "cell_type": "code",
   "execution_count": 20,
   "id": "0940ea7a",
   "metadata": {},
   "outputs": [
    {
     "name": "stdout",
     "output_type": "stream",
     "text": [
      "Enter a character to find its ascii value\n",
      "a\n",
      "97\n"
     ]
    }
   ],
   "source": [
    "#4. Write a Python Program To Find ASCII value of a character?\n",
    "print(\"Enter a character to find its ascii value\")\n",
    "a = input()\n",
    "print(ord(a))"
   ]
  },
  {
   "cell_type": "code",
   "execution_count": 25,
   "id": "60435ae2",
   "metadata": {},
   "outputs": [
    {
     "name": "stdout",
     "output_type": "stream",
     "text": [
      "\t\t\t\tCalculator\n",
      "Enter two operands:\n",
      "12\n",
      "6\n",
      "Enter *)multiplication +)addition -)difference /)division\n",
      "*\n",
      "72.0\n"
     ]
    }
   ],
   "source": [
    "#5. Write a Python Program to Make a Simple Calculator with 4 basic mathematical operations?\n",
    "print(\"\\t\\t\\t\\tCalculator\")\n",
    "print(\"Enter two operands:\")\n",
    "a=float(input())\n",
    "b=float(input())\n",
    "print(\"Enter *)multiplication +)addition -)difference /)division\")\n",
    "o=str(input())\n",
    "if o=='*':\n",
    "    print(a*b)\n",
    "elif o=='+':\n",
    "    print(a+b)\n",
    "elif o=='-':\n",
    "    print(a-b)\n",
    "elif o=='/':\n",
    "    print(a/b)\n",
    "else:\n",
    "    print(\"Enter valid operator!\")\n",
    "\n"
   ]
  }
 ],
 "metadata": {
  "kernelspec": {
   "display_name": "Python 3 (ipykernel)",
   "language": "python",
   "name": "python3"
  },
  "language_info": {
   "codemirror_mode": {
    "name": "ipython",
    "version": 3
   },
   "file_extension": ".py",
   "mimetype": "text/x-python",
   "name": "python",
   "nbconvert_exporter": "python",
   "pygments_lexer": "ipython3",
   "version": "3.9.12"
  }
 },
 "nbformat": 4,
 "nbformat_minor": 5
}
