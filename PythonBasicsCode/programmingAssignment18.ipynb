{
 "cells": [
  {
   "cell_type": "code",
   "execution_count": 1,
   "id": "c161c960",
   "metadata": {},
   "outputs": [
    {
     "name": "stdout",
     "output_type": "stream",
     "text": [
      "[1, 2]\n"
     ]
    }
   ],
   "source": [
    "#Create a function that takes a list of non-negative integers and strings and return a new list\n",
    "#without the strings.\n",
    "def func1(l):\n",
    "    lnew=[]\n",
    "    for i in l:\n",
    "        if type(i) != str:\n",
    "            lnew.append(i)\n",
    "    return lnew\n",
    "\n",
    "print(func1([1, 2, 'a', 't', 'b']))"
   ]
  },
  {
   "cell_type": "code",
   "execution_count": 2,
   "id": "9439df55",
   "metadata": {},
   "outputs": [
    {
     "name": "stdout",
     "output_type": "stream",
     "text": [
      "DLROw OLLEh\n"
     ]
    }
   ],
   "source": [
    "#The &quot;Reverser&quot; takes a string as input and returns that string in reverse order, with the\n",
    "#opposite case.\n",
    "\n",
    "def reverser(str):\n",
    "    str=str[::-1]\n",
    "    print(str.swapcase())\n",
    "    \n",
    "reverser(\"Hello World\")"
   ]
  },
  {
   "cell_type": "code",
   "execution_count": 5,
   "id": "21cdcfd1",
   "metadata": {},
   "outputs": [
    {
     "name": "stdout",
     "output_type": "stream",
     "text": [
      "1 [2, 3, 4, 5] 6\n"
     ]
    }
   ],
   "source": [
    "#Q3\n",
    "lst = [1, 2, 3, 4, 5, 6]\n",
    "first=lst[0]\n",
    "second = lst[1:-1]\n",
    "last=lst[-1]\n",
    "print(first,second,last)"
   ]
  },
  {
   "cell_type": "code",
   "execution_count": 6,
   "id": "b4bedb96",
   "metadata": {},
   "outputs": [
    {
     "data": {
      "text/plain": [
       "120"
      ]
     },
     "execution_count": 6,
     "metadata": {},
     "output_type": "execute_result"
    }
   ],
   "source": [
    "#Write a function that calculates the factorial of a number recursively.\n",
    "\n",
    "def fact(n):\n",
    "    if n==1:\n",
    "        return 1\n",
    "    else:\n",
    "        return n*fact(n-1)\n",
    "\n",
    "fact(5)"
   ]
  },
  {
   "cell_type": "code",
   "execution_count": 22,
   "id": "e4d483e9",
   "metadata": {},
   "outputs": [
    {
     "name": "stdout",
     "output_type": "stream",
     "text": [
      "[4, 4, 3, 2, 1, 1, 1]\n"
     ]
    }
   ],
   "source": [
    "#Write a function that moves all elements of one type to the end of the list.\n",
    "\n",
    "def move(l):\n",
    "    lnew=[]\n",
    "    s=0\n",
    "    for i in l:\n",
    "        if type(i) != list:\n",
    "            s=i\n",
    "            lnew.append(i)\n",
    "        else:\n",
    "            for j in i:\n",
    "                lnew.append(j)\n",
    "    lnew.sort()\n",
    "    print(lnew[::-1])\n",
    "\n",
    "move([[1, 3, 2, 4, 4, 1], 1])\n",
    "            "
   ]
  },
  {
   "cell_type": "code",
   "execution_count": null,
   "id": "2c72f280",
   "metadata": {},
   "outputs": [],
   "source": []
  }
 ],
 "metadata": {
  "kernelspec": {
   "display_name": "Python 3 (ipykernel)",
   "language": "python",
   "name": "python3"
  },
  "language_info": {
   "codemirror_mode": {
    "name": "ipython",
    "version": 3
   },
   "file_extension": ".py",
   "mimetype": "text/x-python",
   "name": "python",
   "nbconvert_exporter": "python",
   "pygments_lexer": "ipython3",
   "version": "3.9.12"
  }
 },
 "nbformat": 4,
 "nbformat_minor": 5
}
