{
 "cells": [
  {
   "cell_type": "code",
   "execution_count": 7,
   "id": "f778b86c",
   "metadata": {},
   "outputs": [
    {
     "name": "stdout",
     "output_type": "stream",
     "text": [
      "Enter count of elements :\n",
      "4\n",
      "Enter integer elements only:\n",
      "23\n",
      "4\n",
      "2\n",
      "12\n",
      "Sum of array elements : 41\n"
     ]
    }
   ],
   "source": [
    "#1. Write a Python Program to find sum of array?\n",
    "l = []\n",
    "print(\"Enter count of elements :\")\n",
    "n = int(input())\n",
    "print(\"Enter integer elements only:\")\n",
    "for i in range(n):\n",
    "    x = int(input())\n",
    "    l.append(x)\n",
    "sum=0\n",
    "for i in range(n):\n",
    "    sum += l[i]\n",
    "print(\"Sum of array elements :\", sum)"
   ]
  },
  {
   "cell_type": "code",
   "execution_count": 12,
   "id": "20bd5893",
   "metadata": {},
   "outputs": [
    {
     "name": "stdout",
     "output_type": "stream",
     "text": [
      "Enter count of elements :\n",
      "3\n",
      "Enter elements :\n",
      "gih\n",
      "34\n",
      "567\n",
      "largest element :  gih\n"
     ]
    }
   ],
   "source": [
    "#2. Write a Python Program to find largest element in an array?\n",
    "l = []\n",
    "print(\"Enter count of elements :\")\n",
    "n = int(input())\n",
    "print(\"Enter elements :\")\n",
    "for i in range(n):\n",
    "    x = input()\n",
    "    l.append(x)\n",
    "mx=l[0]\n",
    "for i in range(n):\n",
    "    if l[i]>mx:\n",
    "        mx=l[i]\n",
    "print(\"largest element : \", mx)"
   ]
  },
  {
   "cell_type": "code",
   "execution_count": 13,
   "id": "b73de2e0",
   "metadata": {},
   "outputs": [
    {
     "name": "stdout",
     "output_type": "stream",
     "text": [
      "Enter count of elements :\n",
      "5\n",
      "Enter elements :\n",
      "vishal\n",
      "12\n",
      "gh45\n",
      "87.98\n",
      "helloWorld\n",
      "Before rotation array : ['vishal', '12', 'gh45', '87.98', 'helloWorld']\n",
      "Enter count by which need to rotate element :\n",
      "3\n",
      "After roataion elements are : ['gh45', '87.98', 'helloWorld', 'vishal', '12']\n"
     ]
    }
   ],
   "source": [
    "#3. Write a Python Program for array rotation?\n",
    "l = []\n",
    "print(\"Enter count of elements :\")\n",
    "n = int(input())\n",
    "print(\"Enter elements :\")\n",
    "for i in range(n):\n",
    "    x = input()\n",
    "    l.append(x)\n",
    "print(\"Before rotation array :\", l)\n",
    "print(\"Enter count by which need to rotate element :\")\n",
    "count=int(input())\n",
    "for i in range(count):\n",
    "    size = len(l)-1\n",
    "    temp=l[size]\n",
    "    while size>0:\n",
    "        l[size] = l[size-1]\n",
    "        size -=1\n",
    "    l[0]=temp\n",
    "print(\"After roataion elements are :\",l)\n",
    "    "
   ]
  },
  {
   "cell_type": "code",
   "execution_count": 19,
   "id": "0b05826b",
   "metadata": {},
   "outputs": [
    {
     "name": "stdout",
     "output_type": "stream",
     "text": [
      "Enter count of elements :\n",
      "5\n",
      "Enter elements :\n",
      "54\n",
      "hello65\n",
      "helloWorld\n",
      "65.98\n",
      "True\n",
      "Before split elements are :  ['54', 'hello65', 'helloWorld', '65.98', 'True']\n",
      "New list after split : ['helloWorld', '65.98', 'True', '54', 'hello65']\n"
     ]
    }
   ],
   "source": [
    "#4. Write a Python Program to Split the array and add the first part to the end?\n",
    "l = []\n",
    "print(\"Enter count of elements :\")\n",
    "n = int(input())\n",
    "print(\"Enter elements :\")\n",
    "for i in range(n):\n",
    "    x = input()\n",
    "    l.append(x)\n",
    "print(\"Before split elements are : \", l)\n",
    "mid = len(l)//2\n",
    "l1 = l[:mid]\n",
    "l2 = l[mid:]\n",
    "new_list=[]\n",
    "for i in l2:\n",
    "    new_list.append(i)\n",
    "for i in l1:\n",
    "    new_list.append(i)\n",
    "print(\"New list after split :\",new_list)"
   ]
  },
  {
   "cell_type": "code",
   "execution_count": 22,
   "id": "3784450a",
   "metadata": {},
   "outputs": [
    {
     "name": "stdout",
     "output_type": "stream",
     "text": [
      "Enter count of elements :\n",
      "5\n",
      "Enter integer elements only:\n",
      "34\n",
      "34\n",
      "32\n",
      "34\n",
      "34\n",
      "['inc', 'dec']\n",
      "Not Monotonic\n"
     ]
    }
   ],
   "source": [
    "#5. Write a Python Program to check if given array is Monotonic?\n",
    "l = []\n",
    "print(\"Enter count of elements :\")\n",
    "n = int(input())\n",
    "print(\"Enter integer elements only:\")\n",
    "for i in range(n):\n",
    "    x = int(input())\n",
    "    l.append(x)\n",
    "s=[]\n",
    "for i in range(len(l)-1):\n",
    "    if l[i] == l[i+1]:\n",
    "        continue;\n",
    "    elif l[i] > l[i+1]:\n",
    "        s.append('inc')\n",
    "    else:\n",
    "        s.append('dec')\n",
    "print(s)\n",
    "if all(element in s for element in ['inc', 'dec']):\n",
    "    print(\"Not Monotonic\")\n",
    "else:\n",
    "    print(\"Monotonic\")\n",
    "    \n",
    "        "
   ]
  },
  {
   "cell_type": "code",
   "execution_count": null,
   "id": "b97634d4",
   "metadata": {},
   "outputs": [],
   "source": []
  }
 ],
 "metadata": {
  "kernelspec": {
   "display_name": "Python 3 (ipykernel)",
   "language": "python",
   "name": "python3"
  },
  "language_info": {
   "codemirror_mode": {
    "name": "ipython",
    "version": 3
   },
   "file_extension": ".py",
   "mimetype": "text/x-python",
   "name": "python",
   "nbconvert_exporter": "python",
   "pygments_lexer": "ipython3",
   "version": "3.9.12"
  }
 },
 "nbformat": 4,
 "nbformat_minor": 5
}
